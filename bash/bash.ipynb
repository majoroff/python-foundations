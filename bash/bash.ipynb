{
 "cells": [
  {
   "cell_type": "markdown",
   "metadata": {},
   "source": [
    "# Bash commands\n",
    "\n",
    "## Movement keys\n",
    "\n",
    "** ctrl-a ** -- start of line\n",
    "\n",
    "** ctrl-e ** -- end of line\n",
    "\n",
    "** ctrl-d ** -- delete a char\n",
    "\n",
    "** ctrl-h ** -- delete a char backward\n",
    "\n",
    "** alt-d ** -- delete a word\n",
    "\n",
    "** ctrl-w ** -- delete a word backward\n",
    "\n",
    "** ctrl-k ** -- delete rest of line\n",
    "\n",
    "** ctrl-u ** -- delete from start of line \n",
    "\n",
    "** ctrl-r ** -- history search\n",
    "\n",
    "## Wildcards\n",
    "\n",
    "**\\*** -- 0 or more chars\n",
    "\n",
    "**?**  -- exactly one char\n",
    "\n",
    "**[ab7\\_]** -- one of chars in brackets\n",
    "\n",
    "**[^xy1]**  -- exlcuding chars in brackets\n",
    "\n",
    "**[A-N2-6]** -- ranges\n",
    "\n",
    "**{a,b,c}.txt** -- brace expansion, will match a.txt, b.txt and c.txt\n",
    "\n",
    "**{a..c}{1..3}.txt** -- brace expansion with ranges, will match a1.txt, a2.txt..b1.txt..c2.txt, c3.txt\n",
    "\n",
    "**mv \\*{txt,jpg} docs/  ===> mv \\*txt \\*jpg docs/** -- brace expansion comes first before wilcard expansion"
   ]
  },
  {
   "cell_type": "code",
   "execution_count": 1,
   "metadata": {
    "collapsed": false
   },
   "outputs": [
    {
     "name": "stdout",
     "output_type": "stream",
     "text": [
      "/home/major/work/python/stuff/python/foundations/bash\r\n"
     ]
    },
    {
     "data": {
      "text/plain": [
       "/home/major/work/python/stuff/python/foundations/bash"
      ]
     },
     "execution_count": 1,
     "metadata": {},
     "output_type": "execute_result"
    }
   ],
   "source": []
  },
  {
   "cell_type": "markdown",
   "metadata": {
    "collapsed": false
   },
   "source": [
    "### setting up"
   ]
  },
  {
   "cell_type": "code",
   "execution_count": 3,
   "metadata": {
    "collapsed": false
   },
   "outputs": [
    {
     "data": {},
     "execution_count": 3,
     "metadata": {},
     "output_type": "execute_result"
    }
   ],
   "source": [
    "touch a.jpg b.jpg c.txt d.txt"
   ]
  },
  {
   "cell_type": "code",
   "execution_count": 5,
   "metadata": {
    "collapsed": false
   },
   "outputs": [
    {
     "name": "stdout",
     "output_type": "stream",
     "text": [
      "\u001b[0m\u001b[01;35ma.jpg\u001b[0m  bash.ipynb  \u001b[01;35mb.jpg\u001b[0m  c.txt  d.txt\r\n"
     ]
    },
    {
     "data": {
      "text/plain": [
       "\u001b[0m\u001b[01;35ma.jpg\u001b[0m  bash.ipynb  \u001b[01;35mb.jpg\u001b[0m  c.txt  d.txt"
      ]
     },
     "execution_count": 5,
     "metadata": {},
     "output_type": "execute_result"
    }
   ],
   "source": [
    "ls"
   ]
  },
  {
   "cell_type": "code",
   "execution_count": 6,
   "metadata": {
    "collapsed": false
   },
   "outputs": [
    {
     "data": {},
     "execution_count": 6,
     "metadata": {},
     "output_type": "execute_result"
    }
   ],
   "source": [
    "mkdir pictures"
   ]
  },
  {
   "cell_type": "code",
   "execution_count": 7,
   "metadata": {
    "collapsed": false
   },
   "outputs": [
    {
     "data": {},
     "execution_count": 7,
     "metadata": {},
     "output_type": "execute_result"
    }
   ],
   "source": [
    "mkdir text"
   ]
  },
  {
   "cell_type": "code",
   "execution_count": 8,
   "metadata": {
    "collapsed": false
   },
   "outputs": [
    {
     "data": {},
     "execution_count": 8,
     "metadata": {},
     "output_type": "execute_result"
    }
   ],
   "source": [
    "mv *jpg pictures/"
   ]
  },
  {
   "cell_type": "code",
   "execution_count": 9,
   "metadata": {
    "collapsed": false
   },
   "outputs": [
    {
     "data": {},
     "execution_count": 9,
     "metadata": {},
     "output_type": "execute_result"
    }
   ],
   "source": [
    "mv *txt text/"
   ]
  },
  {
   "cell_type": "code",
   "execution_count": 10,
   "metadata": {
    "collapsed": false
   },
   "outputs": [
    {
     "name": "stdout",
     "output_type": "stream",
     "text": [
      ".:\n",
      "bash.ipynb  \u001b[0m\u001b[01;34mpictures\u001b[0m  \u001b[01;34mtext\u001b[0m\n",
      "\n",
      "./pictures:\n",
      "\u001b[01;35ma.jpg\u001b[0m  \u001b[01;35mb.jpg\u001b[0m\n",
      "\n",
      "./text:\n",
      "c.txt  d.txt\n"
     ]
    },
    {
     "data": {
      "text/plain": [
       ".:\r",
       "bash.ipynb  \u001b[0m\u001b[01;34mpictures\u001b[0m  \u001b[01;34mtext\u001b[0m\r",
       "\r",
       "./pictures:\r",
       "\u001b[01;35ma.jpg\u001b[0m  \u001b[01;35mb.jpg\u001b[0m\r",
       "\r",
       "./text:\r",
       "c.txt  d.txt"
      ]
     },
     "execution_count": 10,
     "metadata": {},
     "output_type": "execute_result"
    }
   ],
   "source": [
    "ls -R"
   ]
  },
  {
   "cell_type": "code",
   "execution_count": 1,
   "metadata": {
    "collapsed": false
   },
   "outputs": [
    {
     "data": {},
     "execution_count": 1,
     "metadata": {},
     "output_type": "execute_result"
    }
   ],
   "source": [
    "cd text"
   ]
  },
  {
   "cell_type": "code",
   "execution_count": 2,
   "metadata": {
    "collapsed": false
   },
   "outputs": [
    {
     "data": {},
     "execution_count": 2,
     "metadata": {},
     "output_type": "execute_result"
    }
   ],
   "source": [
    "touch important_document_v{1..19}.doc"
   ]
  },
  {
   "cell_type": "code",
   "execution_count": 3,
   "metadata": {
    "collapsed": false
   },
   "outputs": [
    {
     "name": "stdout",
     "output_type": "stream",
     "text": [
      "c.txt                       important_document_v19.doc\n",
      "d.txt                       important_document_v1.doc\n",
      "important_document_v10.doc  important_document_v2.doc\n",
      "important_document_v11.doc  important_document_v3.doc\n",
      "important_document_v12.doc  important_document_v4.doc\n",
      "important_document_v13.doc  important_document_v5.doc\n",
      "important_document_v14.doc  important_document_v6.doc\n",
      "important_document_v15.doc  important_document_v7.doc\n",
      "important_document_v16.doc  important_document_v8.doc\n",
      "important_document_v17.doc  important_document_v9.doc\n",
      "important_document_v18.doc\n"
     ]
    },
    {
     "data": {
      "text/plain": [
       "c.txt                       important_document_v19.doc\r",
       "d.txt                       important_document_v1.doc\r",
       "important_document_v10.doc  important_document_v2.doc\r",
       "important_document_v11.doc  important_document_v3.doc\r",
       "important_document_v12.doc  important_document_v4.doc\r",
       "important_document_v13.doc  important_document_v5.doc\r",
       "important_document_v14.doc  important_document_v6.doc\r",
       "important_document_v15.doc  important_document_v7.doc\r",
       "important_document_v16.doc  important_document_v8.doc\r",
       "important_document_v17.doc  important_document_v9.doc\r",
       "important_document_v18.doc"
      ]
     },
     "execution_count": 3,
     "metadata": {},
     "output_type": "execute_result"
    }
   ],
   "source": [
    "ls"
   ]
  },
  {
   "cell_type": "code",
   "execution_count": 4,
   "metadata": {
    "collapsed": false
   },
   "outputs": [
    {
     "data": {},
     "execution_count": 4,
     "metadata": {},
     "output_type": "execute_result"
    }
   ],
   "source": [
    "rm {c,d}.txt"
   ]
  },
  {
   "cell_type": "code",
   "execution_count": 5,
   "metadata": {
    "collapsed": false
   },
   "outputs": [
    {
     "name": "stdout",
     "output_type": "stream",
     "text": [
      "important_document_v10.doc  important_document_v1.doc\n",
      "important_document_v11.doc  important_document_v2.doc\n",
      "important_document_v12.doc  important_document_v3.doc\n",
      "important_document_v13.doc  important_document_v4.doc\n",
      "important_document_v14.doc  important_document_v5.doc\n",
      "important_document_v15.doc  important_document_v6.doc\n",
      "important_document_v16.doc  important_document_v7.doc\n",
      "important_document_v17.doc  important_document_v8.doc\n",
      "important_document_v18.doc  important_document_v9.doc\n",
      "important_document_v19.doc\n"
     ]
    },
    {
     "data": {
      "text/plain": [
       "important_document_v10.doc  important_document_v1.doc\r",
       "important_document_v11.doc  important_document_v2.doc\r",
       "important_document_v12.doc  important_document_v3.doc\r",
       "important_document_v13.doc  important_document_v4.doc\r",
       "important_document_v14.doc  important_document_v5.doc\r",
       "important_document_v15.doc  important_document_v6.doc\r",
       "important_document_v16.doc  important_document_v7.doc\r",
       "important_document_v17.doc  important_document_v8.doc\r",
       "important_document_v18.doc  important_document_v9.doc\r",
       "important_document_v19.doc"
      ]
     },
     "execution_count": 5,
     "metadata": {},
     "output_type": "execute_result"
    }
   ],
   "source": [
    "ls"
   ]
  },
  {
   "cell_type": "code",
   "execution_count": 6,
   "metadata": {
    "collapsed": false
   },
   "outputs": [
    {
     "data": {},
     "execution_count": 6,
     "metadata": {},
     "output_type": "execute_result"
    }
   ],
   "source": [
    "rm important_document_v[234].doc"
   ]
  },
  {
   "cell_type": "code",
   "execution_count": 7,
   "metadata": {
    "collapsed": false
   },
   "outputs": [
    {
     "name": "stdout",
     "output_type": "stream",
     "text": [
      "important_document_v10.doc  important_document_v18.doc\n",
      "important_document_v11.doc  important_document_v19.doc\n",
      "important_document_v12.doc  important_document_v1.doc\n",
      "important_document_v13.doc  important_document_v5.doc\n",
      "important_document_v14.doc  important_document_v6.doc\n",
      "important_document_v15.doc  important_document_v7.doc\n",
      "important_document_v16.doc  important_document_v8.doc\n",
      "important_document_v17.doc  important_document_v9.doc\n"
     ]
    },
    {
     "data": {
      "text/plain": [
       "important_document_v10.doc  important_document_v18.doc\r",
       "important_document_v11.doc  important_document_v19.doc\r",
       "important_document_v12.doc  important_document_v1.doc\r",
       "important_document_v13.doc  important_document_v5.doc\r",
       "important_document_v14.doc  important_document_v6.doc\r",
       "important_document_v15.doc  important_document_v7.doc\r",
       "important_document_v16.doc  important_document_v8.doc\r",
       "important_document_v17.doc  important_document_v9.doc"
      ]
     },
     "execution_count": 7,
     "metadata": {},
     "output_type": "execute_result"
    }
   ],
   "source": [
    "ls"
   ]
  },
  {
   "cell_type": "code",
   "execution_count": 8,
   "metadata": {
    "collapsed": false
   },
   "outputs": [
    {
     "data": {},
     "execution_count": 8,
     "metadata": {},
     "output_type": "execute_result"
    }
   ],
   "source": [
    "rm important_document_v1[^789].doc"
   ]
  },
  {
   "cell_type": "code",
   "execution_count": 9,
   "metadata": {
    "collapsed": false
   },
   "outputs": [
    {
     "name": "stdout",
     "output_type": "stream",
     "text": [
      "important_document_v17.doc  important_document_v6.doc\n",
      "important_document_v18.doc  important_document_v7.doc\n",
      "important_document_v19.doc  important_document_v8.doc\n",
      "important_document_v1.doc   important_document_v9.doc\n",
      "important_document_v5.doc\n"
     ]
    },
    {
     "data": {
      "text/plain": [
       "important_document_v17.doc  important_document_v6.doc\r",
       "important_document_v18.doc  important_document_v7.doc\r",
       "important_document_v19.doc  important_document_v8.doc\r",
       "important_document_v1.doc   important_document_v9.doc\r",
       "important_document_v5.doc"
      ]
     },
     "execution_count": 9,
     "metadata": {},
     "output_type": "execute_result"
    }
   ],
   "source": [
    "ls"
   ]
  },
  {
   "cell_type": "code",
   "execution_count": 11,
   "metadata": {
    "collapsed": false
   },
   "outputs": [
    {
     "name": "stdout",
     "output_type": "stream",
     "text": [
      "rm: невозможно удалить «important_document_v?.doc»: Нет такого файла или каталога\r\n"
     ]
    },
    {
     "data": {
      "text/plain": [
       "rm: невозможно удалить «important_document_v?.doc»: Нет такого файла или каталога"
      ]
     },
     "execution_count": 11,
     "metadata": {},
     "output_type": "execute_result"
    }
   ],
   "source": [
    "rm important_document_v?.doc"
   ]
  },
  {
   "cell_type": "code",
   "execution_count": 12,
   "metadata": {
    "collapsed": false
   },
   "outputs": [
    {
     "name": "stdout",
     "output_type": "stream",
     "text": [
      "important_document_v17.doc  important_document_v19.doc\n",
      "important_document_v18.doc\n"
     ]
    },
    {
     "data": {
      "text/plain": [
       "important_document_v17.doc  important_document_v19.doc\r",
       "important_document_v18.doc"
      ]
     },
     "execution_count": 12,
     "metadata": {},
     "output_type": "execute_result"
    }
   ],
   "source": [
    "ls"
   ]
  },
  {
   "cell_type": "code",
   "execution_count": 14,
   "metadata": {
    "collapsed": false
   },
   "outputs": [
    {
     "data": {},
     "execution_count": 14,
     "metadata": {},
     "output_type": "execute_result"
    }
   ],
   "source": [
    "touch file{a,b,c}{1,2,3}.{jpg,txt,zip}"
   ]
  },
  {
   "cell_type": "code",
   "execution_count": 15,
   "metadata": {
    "collapsed": false
   },
   "outputs": [
    {
     "name": "stdout",
     "output_type": "stream",
     "text": [
      "\u001b[0m\u001b[01;35mfilea1.jpg\u001b[0m  \u001b[01;35mfilea3.jpg\u001b[0m  \u001b[01;35mfileb2.jpg\u001b[0m  \u001b[01;35mfilec1.jpg\u001b[0m  \u001b[01;35mfilec3.jpg\u001b[0m\n",
      "filea1.txt  filea3.txt  fileb2.txt  filec1.txt  filec3.txt\n",
      "\u001b[01;31mfilea1.zip\u001b[0m  \u001b[01;31mfilea3.zip\u001b[0m  \u001b[01;31mfileb2.zip\u001b[0m  \u001b[01;31mfilec1.zip\u001b[0m  \u001b[01;31mfilec3.zip\u001b[0m\n",
      "\u001b[01;35mfilea2.jpg\u001b[0m  \u001b[01;35mfileb1.jpg\u001b[0m  \u001b[01;35mfileb3.jpg\u001b[0m  \u001b[01;35mfilec2.jpg\u001b[0m  important_document_v17.doc\n",
      "filea2.txt  fileb1.txt  fileb3.txt  filec2.txt  important_document_v18.doc\n",
      "\u001b[01;31mfilea2.zip\u001b[0m  \u001b[01;31mfileb1.zip\u001b[0m  \u001b[01;31mfileb3.zip\u001b[0m  \u001b[01;31mfilec2.zip\u001b[0m  important_document_v19.doc\n"
     ]
    },
    {
     "data": {
      "text/plain": [
       "\u001b[0m\u001b[01;35mfilea1.jpg\u001b[0m  \u001b[01;35mfilea3.jpg\u001b[0m  \u001b[01;35mfileb2.jpg\u001b[0m  \u001b[01;35mfilec1.jpg\u001b[0m  \u001b[01;35mfilec3.jpg\u001b[0m\r",
       "filea1.txt  filea3.txt  fileb2.txt  filec1.txt  filec3.txt\r",
       "\u001b[01;31mfilea1.zip\u001b[0m  \u001b[01;31mfilea3.zip\u001b[0m  \u001b[01;31mfileb2.zip\u001b[0m  \u001b[01;31mfilec1.zip\u001b[0m  \u001b[01;31mfilec3.zip\u001b[0m\r",
       "\u001b[01;35mfilea2.jpg\u001b[0m  \u001b[01;35mfileb1.jpg\u001b[0m  \u001b[01;35mfileb3.jpg\u001b[0m  \u001b[01;35mfilec2.jpg\u001b[0m  important_document_v17.doc\r",
       "filea2.txt  fileb1.txt  fileb3.txt  filec2.txt  important_document_v18.doc\r",
       "\u001b[01;31mfilea2.zip\u001b[0m  \u001b[01;31mfileb1.zip\u001b[0m  \u001b[01;31mfileb3.zip\u001b[0m  \u001b[01;31mfilec2.zip\u001b[0m  important_document_v19.doc"
      ]
     },
     "execution_count": 15,
     "metadata": {},
     "output_type": "execute_result"
    }
   ],
   "source": [
    "ls"
   ]
  },
  {
   "cell_type": "code",
   "execution_count": 16,
   "metadata": {
    "collapsed": false
   },
   "outputs": [
    {
     "data": {},
     "execution_count": 16,
     "metadata": {},
     "output_type": "execute_result"
    }
   ],
   "source": [
    "mkdir a"
   ]
  },
  {
   "cell_type": "code",
   "execution_count": 17,
   "metadata": {
    "collapsed": false
   },
   "outputs": [
    {
     "data": {},
     "execution_count": 17,
     "metadata": {},
     "output_type": "execute_result"
    }
   ],
   "source": [
    "mv filea?.{jpg,txt} a"
   ]
  },
  {
   "cell_type": "code",
   "execution_count": 18,
   "metadata": {
    "collapsed": false
   },
   "outputs": [
    {
     "name": "stdout",
     "output_type": "stream",
     "text": [
      "\u001b[0m\u001b[01;34ma\u001b[0m           fileb1.txt  \u001b[01;35mfileb3.jpg\u001b[0m  \u001b[01;31mfilec1.zip\u001b[0m  filec3.txt\n",
      "\u001b[01;31mfilea1.zip\u001b[0m  \u001b[01;31mfileb1.zip\u001b[0m  fileb3.txt  \u001b[01;35mfilec2.jpg\u001b[0m  \u001b[01;31mfilec3.zip\u001b[0m\n",
      "\u001b[01;31mfilea2.zip\u001b[0m  \u001b[01;35mfileb2.jpg\u001b[0m  \u001b[01;31mfileb3.zip\u001b[0m  filec2.txt  important_document_v17.doc\n",
      "\u001b[01;31mfilea3.zip\u001b[0m  fileb2.txt  \u001b[01;35mfilec1.jpg\u001b[0m  \u001b[01;31mfilec2.zip\u001b[0m  important_document_v18.doc\n",
      "\u001b[01;35mfileb1.jpg\u001b[0m  \u001b[01;31mfileb2.zip\u001b[0m  filec1.txt  \u001b[01;35mfilec3.jpg\u001b[0m  important_document_v19.doc\n"
     ]
    },
    {
     "data": {
      "text/plain": [
       "\u001b[0m\u001b[01;34ma\u001b[0m           fileb1.txt  \u001b[01;35mfileb3.jpg\u001b[0m  \u001b[01;31mfilec1.zip\u001b[0m  filec3.txt\r",
       "\u001b[01;31mfilea1.zip\u001b[0m  \u001b[01;31mfileb1.zip\u001b[0m  fileb3.txt  \u001b[01;35mfilec2.jpg\u001b[0m  \u001b[01;31mfilec3.zip\u001b[0m\r",
       "\u001b[01;31mfilea2.zip\u001b[0m  \u001b[01;35mfileb2.jpg\u001b[0m  \u001b[01;31mfileb3.zip\u001b[0m  filec2.txt  important_document_v17.doc\r",
       "\u001b[01;31mfilea3.zip\u001b[0m  fileb2.txt  \u001b[01;35mfilec1.jpg\u001b[0m  \u001b[01;31mfilec2.zip\u001b[0m  important_document_v18.doc\r",
       "\u001b[01;35mfileb1.jpg\u001b[0m  \u001b[01;31mfileb2.zip\u001b[0m  filec1.txt  \u001b[01;35mfilec3.jpg\u001b[0m  important_document_v19.doc"
      ]
     },
     "execution_count": 18,
     "metadata": {},
     "output_type": "execute_result"
    }
   ],
   "source": [
    "ls"
   ]
  },
  {
   "cell_type": "markdown",
   "metadata": {},
   "source": [
    "## Output redirection\n",
    "\n",
    "** > ** -- will overwrite existings files\n",
    "\n",
    "** >> ** -- appends output to the end of file"
   ]
  },
  {
   "cell_type": "code",
   "execution_count": 19,
   "metadata": {
    "collapsed": false
   },
   "outputs": [
    {
     "data": {},
     "execution_count": 19,
     "metadata": {},
     "output_type": "execute_result"
    }
   ],
   "source": [
    "echo \"buy milk\" >> shopping.txt"
   ]
  },
  {
   "cell_type": "code",
   "execution_count": 20,
   "metadata": {
    "collapsed": false
   },
   "outputs": [
    {
     "name": "stdout",
     "output_type": "stream",
     "text": [
      "buy milk\r\n"
     ]
    },
    {
     "data": {
      "text/plain": [
       "buy milk"
      ]
     },
     "execution_count": 20,
     "metadata": {},
     "output_type": "execute_result"
    }
   ],
   "source": [
    "cat shopping.txt"
   ]
  },
  {
   "cell_type": "code",
   "execution_count": 21,
   "metadata": {
    "collapsed": false
   },
   "outputs": [
    {
     "data": {},
     "execution_count": 21,
     "metadata": {},
     "output_type": "execute_result"
    }
   ],
   "source": [
    "ls > listing.txt"
   ]
  },
  {
   "cell_type": "code",
   "execution_count": 22,
   "metadata": {
    "collapsed": false
   },
   "outputs": [
    {
     "name": "stdout",
     "output_type": "stream",
     "text": [
      "a\n",
      "filea1.zip\n",
      "filea2.zip\n",
      "filea3.zip\n",
      "fileb1.jpg\n",
      "fileb1.txt\n",
      "fileb1.zip\n",
      "fileb2.jpg\n",
      "fileb2.txt\n",
      "fileb2.zip\n",
      "fileb3.jpg\n",
      "fileb3.txt\n",
      "fileb3.zip\n",
      "filec1.jpg\n",
      "filec1.txt\n",
      "filec1.zip\n",
      "filec2.jpg\n",
      "filec2.txt\n",
      "filec2.zip\n",
      "filec3.jpg\n",
      "filec3.txt\n",
      "filec3.zip\n",
      "important_document_v17.doc\n",
      "important_document_v18.doc\n",
      "important_document_v19.doc\n",
      "listing.txt\n",
      "shopping.txt\n"
     ]
    },
    {
     "data": {
      "text/plain": [
       "a\r",
       "filea1.zip\r",
       "filea2.zip\r",
       "filea3.zip\r",
       "fileb1.jpg\r",
       "fileb1.txt\r",
       "fileb1.zip\r",
       "fileb2.jpg\r",
       "fileb2.txt\r",
       "fileb2.zip\r",
       "fileb3.jpg\r",
       "fileb3.txt\r",
       "fileb3.zip\r",
       "filec1.jpg\r",
       "filec1.txt\r",
       "filec1.zip\r",
       "filec2.jpg\r",
       "filec2.txt\r",
       "filec2.zip\r",
       "filec3.jpg\r",
       "filec3.txt\r",
       "filec3.zip\r",
       "important_document_v17.doc\r",
       "important_document_v18.doc\r",
       "important_document_v19.doc\r",
       "listing.txt\r",
       "shopping.txt"
      ]
     },
     "execution_count": 22,
     "metadata": {},
     "output_type": "execute_result"
    }
   ],
   "source": [
    "cat listing.txt"
   ]
  },
  {
   "cell_type": "markdown",
   "metadata": {},
   "source": [
    "## Pipes\n",
    "\n",
    "** ls | less ** -- makes the output of ls become the input of less\n",
    "\n",
    "** wc ** -- words count\n",
    "\n",
    "** wc -l ** -- lines count\n",
    "\n",
    "** grep ** -- searching"
   ]
  },
  {
   "cell_type": "markdown",
   "metadata": {},
   "source": [
    "## Command substitution\n",
    "Output will become a part of the command line\n",
    "\n",
    "Put command between $()\n",
    "\n",
    "Older form uses backticks: echo \"you are currently on \\`hostname\\`\""
   ]
  },
  {
   "cell_type": "code",
   "execution_count": 23,
   "metadata": {
    "collapsed": false
   },
   "outputs": [
    {
     "name": "stdout",
     "output_type": "stream",
     "text": [
      "hello, major\r\n"
     ]
    },
    {
     "data": {
      "text/plain": [
       "hello, major"
      ]
     },
     "execution_count": 23,
     "metadata": {},
     "output_type": "execute_result"
    }
   ],
   "source": [
    "echo \"hello, $(whoami)\""
   ]
  },
  {
   "cell_type": "code",
   "execution_count": 26,
   "metadata": {
    "collapsed": false
   },
   "outputs": [
    {
     "data": {},
     "execution_count": 26,
     "metadata": {},
     "output_type": "execute_result"
    }
   ],
   "source": [
    "echo \"Buy milk\" > \"notes$(date).txt\""
   ]
  },
  {
   "cell_type": "code",
   "execution_count": 27,
   "metadata": {
    "collapsed": false
   },
   "outputs": [
    {
     "name": "stdout",
     "output_type": "stream",
     "text": [
      "notes.txt  notesВт. апр. 19 10:33:42 MSK 2016.txt\r\n"
     ]
    },
    {
     "data": {
      "text/plain": [
       "notes.txt  notesВт. апр. 19 10:33:42 MSK 2016.txt"
      ]
     },
     "execution_count": 27,
     "metadata": {},
     "output_type": "execute_result"
    }
   ],
   "source": [
    "ls notes*"
   ]
  },
  {
   "cell_type": "code",
   "execution_count": 29,
   "metadata": {
    "collapsed": false
   },
   "outputs": [
    {
     "name": "stdout",
     "output_type": "stream",
     "text": [
      "you are currently on major\r\n"
     ]
    },
    {
     "data": {
      "text/plain": [
       "you are currently on major"
      ]
     },
     "execution_count": 29,
     "metadata": {},
     "output_type": "execute_result"
    }
   ],
   "source": [
    "echo \"you are currently on `hostname`\""
   ]
  },
  {
   "cell_type": "markdown",
   "metadata": {
    "collapsed": true
   },
   "source": [
    "## vi\n",
    "\n",
    "** i ** -- enter insertion (typing) node\n",
    "\n",
    "** ESC ** -- enter command mode\n",
    "\n",
    "** : --> w --> Enter ** -- (in command mode) save\n",
    "\n",
    "** : --> q --> Enter ** -- (in command mode) and leave it!\n"
   ]
  },
  {
   "cell_type": "markdown",
   "metadata": {},
   "source": [
    "## sort\n",
    "\n",
    "*assumes that file space-separated by default*\n",
    "\n",
    "** -k{num} ** -- sort by k-th column\n",
    "\n",
    "** -n ** -- sort numerically\n",
    "\n",
    "** -r ** -- reverse\n",
    "\n",
    "** -t ** -- delimeter (default - space)\n",
    "\n",
    "** uniq ** -- unique lines\n",
    "\n",
    "** uniq -c ** - uniq with counts\n",
    "\n",
    "sort filename | uniq -c | sort -nr\n",
    "\n"
   ]
  },
  {
   "cell_type": "code",
   "execution_count": 1,
   "metadata": {
    "collapsed": false
   },
   "outputs": [
    {
     "name": "stdout",
     "output_type": "stream",
     "text": [
      "alice       dracula  oscars.tsv  sherlock  \u001b[0m\u001b[01;34mtext\u001b[0m\n",
      "bash.ipynb  holmes   \u001b[01;34mpictures\u001b[0m    \u001b[01;34mstudents\u001b[0m  wonderland\n"
     ]
    },
    {
     "data": {
      "text/plain": [
       "alice       dracula  oscars.tsv  sherlock  \u001b[0m\u001b[01;34mtext\u001b[0m\r",
       "bash.ipynb  holmes   \u001b[01;34mpictures\u001b[0m    \u001b[01;34mstudents\u001b[0m  wonderland"
      ]
     },
     "execution_count": 1,
     "metadata": {},
     "output_type": "execute_result"
    }
   ],
   "source": [
    "ls"
   ]
  },
  {
   "cell_type": "code",
   "execution_count": 2,
   "metadata": {
    "collapsed": false
   },
   "outputs": [
    {
     "data": {},
     "execution_count": 2,
     "metadata": {},
     "output_type": "execute_result"
    }
   ],
   "source": [
    "cd students/"
   ]
  },
  {
   "cell_type": "code",
   "execution_count": 3,
   "metadata": {
    "collapsed": false
   },
   "outputs": [
    {
     "name": "stdout",
     "output_type": "stream",
     "text": [
      "clark 50\n",
      "bruce 61\n",
      "steve 43\n",
      "jonathan 100\n",
      "logan 19\n",
      "peter 78\n",
      "tony 92\n"
     ]
    },
    {
     "data": {
      "text/plain": [
       "clark 50\r",
       "bruce 61\r",
       "steve 43\r",
       "jonathan 100\r",
       "logan 19\r",
       "peter 78\r",
       "tony 92"
      ]
     },
     "execution_count": 3,
     "metadata": {},
     "output_type": "execute_result"
    }
   ],
   "source": [
    "cat math_grades"
   ]
  },
  {
   "cell_type": "code",
   "execution_count": 4,
   "metadata": {
    "collapsed": false
   },
   "outputs": [
    {
     "name": "stdout",
     "output_type": "stream",
     "text": [
      "bruce 61\n",
      "clark 50\n",
      "jonathan 100\n",
      "logan 19\n",
      "peter 78\n",
      "steve 43\n",
      "tony 92\n"
     ]
    },
    {
     "data": {
      "text/plain": [
       "bruce 61\r",
       "clark 50\r",
       "jonathan 100\r",
       "logan 19\r",
       "peter 78\r",
       "steve 43\r",
       "tony 92"
      ]
     },
     "execution_count": 4,
     "metadata": {},
     "output_type": "execute_result"
    }
   ],
   "source": [
    "sort math_grades"
   ]
  },
  {
   "cell_type": "code",
   "execution_count": 6,
   "metadata": {
    "collapsed": false
   },
   "outputs": [
    {
     "name": "stdout",
     "output_type": "stream",
     "text": [
      "jonathan 100\n",
      "logan 19\n",
      "steve 43\n",
      "clark 50\n",
      "bruce 61\n",
      "peter 78\n",
      "tony 92\n"
     ]
    },
    {
     "data": {
      "text/plain": [
       "jonathan 100\r",
       "logan 19\r",
       "steve 43\r",
       "clark 50\r",
       "bruce 61\r",
       "peter 78\r",
       "tony 92"
      ]
     },
     "execution_count": 6,
     "metadata": {},
     "output_type": "execute_result"
    }
   ],
   "source": [
    "sort -k2 math_grades"
   ]
  },
  {
   "cell_type": "code",
   "execution_count": 7,
   "metadata": {
    "collapsed": false
   },
   "outputs": [
    {
     "name": "stdout",
     "output_type": "stream",
     "text": [
      "logan 19\n",
      "steve 43\n",
      "clark 50\n",
      "bruce 61\n",
      "peter 78\n",
      "tony 92\n",
      "jonathan 100\n"
     ]
    },
    {
     "data": {
      "text/plain": [
       "logan 19\r",
       "steve 43\r",
       "clark 50\r",
       "bruce 61\r",
       "peter 78\r",
       "tony 92\r",
       "jonathan 100"
      ]
     },
     "execution_count": 7,
     "metadata": {},
     "output_type": "execute_result"
    }
   ],
   "source": [
    "sort -nk2 math_grades # to sort numerically"
   ]
  },
  {
   "cell_type": "code",
   "execution_count": 4,
   "metadata": {
    "collapsed": false
   },
   "outputs": [
    {
     "name": "stdout",
     "output_type": "stream",
     "text": [
      "jonathan 100\n",
      "tony 92\n",
      "peter 78\n",
      "bruce 61\n",
      "clark 50\n",
      "steve 43\n",
      "logan 19\n"
     ]
    },
    {
     "data": {
      "text/plain": [
       "jonathan 100\r",
       "tony 92\r",
       "peter 78\r",
       "bruce 61\r",
       "clark 50\r",
       "steve 43\r",
       "logan 19"
      ]
     },
     "execution_count": 4,
     "metadata": {},
     "output_type": "execute_result"
    }
   ],
   "source": [
    "sort -nrk2 math_grades"
   ]
  },
  {
   "cell_type": "code",
   "execution_count": 5,
   "metadata": {
    "collapsed": false
   },
   "outputs": [
    {
     "name": "stdout",
     "output_type": "stream",
     "text": [
      "lecture 1\n",
      "clark\n",
      "peter\n",
      "tony\n",
      "bruce\n",
      "steve\n",
      "jonathan\n",
      "logan\n",
      "\n",
      "lecture 2\n"
     ]
    },
    {
     "data": {
      "text/plain": [
       "lecture 1\r",
       "clark\r",
       "peter\r",
       "tony\r",
       "bruce\r",
       "steve\r",
       "jonathan\r",
       "logan\r",
       "\r",
       "lecture 2"
      ]
     },
     "execution_count": 5,
     "metadata": {},
     "output_type": "execute_result"
    }
   ],
   "source": [
    "head math_attendance"
   ]
  },
  {
   "cell_type": "code",
   "execution_count": 6,
   "metadata": {
    "collapsed": false
   },
   "outputs": [
    {
     "name": "stdout",
     "output_type": "stream",
     "text": [
      "\n",
      "\n",
      "\n",
      "\n",
      "\n",
      "bruce\n",
      "bruce\n",
      "bruce\n",
      "clark\n",
      "clark\n",
      "clark\n",
      "clark\n",
      "clark\n",
      "jonathan\n",
      "jonathan\n",
      "jonathan\n",
      "lecture 1\n",
      "lecture 2\n",
      "lecture 3\n",
      "lecture 4\n",
      "lecture 5\n",
      "logan\n",
      "logan\n",
      "logan\n",
      "peter\n",
      "peter\n",
      "peter\n",
      "peter\n",
      "peter\n",
      "steve\n",
      "steve\n",
      "steve\n",
      "steve\n",
      "tony\n",
      "tony\n",
      "tony\n"
     ]
    },
    {
     "data": {
      "text/plain": [
       "bruce\r",
       "bruce\r",
       "bruce\r",
       "clark\r",
       "clark\r",
       "clark\r",
       "clark\r",
       "clark\r",
       "jonathan\r",
       "jonathan\r",
       "jonathan\r",
       "lecture 1\r",
       "lecture 2\r",
       "lecture 3\r",
       "lecture 4\r",
       "lecture 5\r",
       "logan\r",
       "logan\r",
       "logan\r",
       "peter\r",
       "peter\r",
       "peter\r",
       "peter\r",
       "peter\r",
       "steve\r",
       "steve\r",
       "steve\r",
       "steve\r",
       "tony\r",
       "tony\r",
       "tony"
      ]
     },
     "execution_count": 6,
     "metadata": {},
     "output_type": "execute_result"
    }
   ],
   "source": [
    "sort math_attendance"
   ]
  },
  {
   "cell_type": "code",
   "execution_count": 7,
   "metadata": {
    "collapsed": false
   },
   "outputs": [
    {
     "name": "stdout",
     "output_type": "stream",
     "text": [
      "\n",
      "bruce\n",
      "clark\n",
      "jonathan\n",
      "lecture 1\n",
      "lecture 2\n",
      "lecture 3\n",
      "lecture 4\n",
      "lecture 5\n",
      "logan\n",
      "peter\n",
      "steve\n",
      "tony\n"
     ]
    },
    {
     "data": {
      "text/plain": [
       "bruce\r",
       "clark\r",
       "jonathan\r",
       "lecture 1\r",
       "lecture 2\r",
       "lecture 3\r",
       "lecture 4\r",
       "lecture 5\r",
       "logan\r",
       "peter\r",
       "steve\r",
       "tony"
      ]
     },
     "execution_count": 7,
     "metadata": {},
     "output_type": "execute_result"
    }
   ],
   "source": [
    "sort math_attendance | uniq"
   ]
  },
  {
   "cell_type": "code",
   "execution_count": 8,
   "metadata": {
    "collapsed": false
   },
   "outputs": [
    {
     "name": "stdout",
     "output_type": "stream",
     "text": [
      "      5 \n",
      "      3 bruce\n",
      "      5 clark\n",
      "      3 jonathan\n",
      "      1 lecture 1\n",
      "      1 lecture 2\n",
      "      1 lecture 3\n",
      "      1 lecture 4\n",
      "      1 lecture 5\n",
      "      3 logan\n",
      "      5 peter\n",
      "      4 steve\n",
      "      3 tony\n"
     ]
    },
    {
     "data": {
      "text/plain": [
       "5 \r",
       "      3 bruce\r",
       "      5 clark\r",
       "      3 jonathan\r",
       "      1 lecture 1\r",
       "      1 lecture 2\r",
       "      1 lecture 3\r",
       "      1 lecture 4\r",
       "      1 lecture 5\r",
       "      3 logan\r",
       "      5 peter\r",
       "      4 steve\r",
       "      3 tony"
      ]
     },
     "execution_count": 8,
     "metadata": {},
     "output_type": "execute_result"
    }
   ],
   "source": [
    "sort math_attendance | uniq -c"
   ]
  },
  {
   "cell_type": "code",
   "execution_count": 9,
   "metadata": {
    "collapsed": false
   },
   "outputs": [
    {
     "name": "stdout",
     "output_type": "stream",
     "text": [
      "      5 peter\n",
      "      5 clark\n",
      "      5 \n",
      "      4 steve\n",
      "      3 tony\n",
      "      3 logan\n",
      "      3 jonathan\n",
      "      3 bruce\n",
      "      1 lecture 5\n",
      "      1 lecture 4\n",
      "      1 lecture 3\n",
      "      1 lecture 2\n",
      "      1 lecture 1\n"
     ]
    },
    {
     "data": {
      "text/plain": [
       "5 peter\r",
       "      5 clark\r",
       "      5 \r",
       "      4 steve\r",
       "      3 tony\r",
       "      3 logan\r",
       "      3 jonathan\r",
       "      3 bruce\r",
       "      1 lecture 5\r",
       "      1 lecture 4\r",
       "      1 lecture 3\r",
       "      1 lecture 2\r",
       "      1 lecture 1"
      ]
     },
     "execution_count": 9,
     "metadata": {},
     "output_type": "execute_result"
    }
   ],
   "source": [
    "sort math_attendance | uniq -c | sort -nr"
   ]
  },
  {
   "cell_type": "markdown",
   "metadata": {},
   "source": [
    "## head \n",
    "\n",
    "** -n *number* ** -- shows first *number* lines\n",
    "\n",
    "ls -l | head -n 5\n",
    "\n",
    "## tail \n",
    "\n",
    "same with last lines\n",
    "\n",
    "** -f *filename* ** -- opens file and refresh it on update\n",
    "\n",
    "## wc\n",
    "\n",
    "word count \n",
    "\n",
    "Output: \\t lines \\t words \\t bytes \\t filename\n"
   ]
  },
  {
   "cell_type": "code",
   "execution_count": 17,
   "metadata": {
    "collapsed": false
   },
   "outputs": [
    {
     "data": {},
     "execution_count": 17,
     "metadata": {},
     "output_type": "execute_result"
    }
   ],
   "source": [
    "cd .."
   ]
  },
  {
   "cell_type": "code",
   "execution_count": 20,
   "metadata": {
    "collapsed": false
   },
   "outputs": [
    {
     "name": "stdout",
     "output_type": "stream",
     "text": [
      " 1702 12763 74703 alice\r\n"
     ]
    },
    {
     "data": {
      "text/plain": [
       "1702 12763 74703 alice"
      ]
     },
     "execution_count": 20,
     "metadata": {},
     "output_type": "execute_result"
    }
   ],
   "source": [
    "wc alice"
   ]
  },
  {
   "cell_type": "code",
   "execution_count": 21,
   "metadata": {
    "collapsed": false
   },
   "outputs": [
    {
     "name": "stdout",
     "output_type": "stream",
     "text": [
      "1702 alice\r\n"
     ]
    },
    {
     "data": {
      "text/plain": [
       "1702 alice"
      ]
     },
     "execution_count": 21,
     "metadata": {},
     "output_type": "execute_result"
    }
   ],
   "source": [
    "wc -l alice"
   ]
  },
  {
   "cell_type": "markdown",
   "metadata": {
    "collapsed": true
   },
   "source": [
    "## grep\n",
    "\n",
    ":\\$ grep *template* filename  -- search in file\n",
    "\n",
    "** -i ** -- case insensitive\n",
    "\n",
    "** -v ** -- invert the search(filter)\n",
    "\n",
    "** -c ** -- counts occurences\n",
    "\n",
    "** -l ** -- shows line number of occurence"
   ]
  },
  {
   "cell_type": "code",
   "execution_count": 22,
   "metadata": {
    "collapsed": false
   },
   "outputs": [
    {
     "name": "stdout",
     "output_type": "stream",
     "text": [
      "The Lord of the \u001b[01;31m\u001b[KRings\u001b[m\u001b[K: The Two Towers\t2002\t2\t6\t\t\n",
      "The Lord of the \u001b[01;31m\u001b[KRings\u001b[m\u001b[K: The Fellowship of the Ring\t2001\t4\t13\t\t\n",
      "The Lord of the \u001b[01;31m\u001b[KRings\u001b[m\u001b[K: The Return of the King\t2003\t11\t11\t\t\n"
     ]
    },
    {
     "data": {
      "text/plain": [
       "The Lord of the \u001b[01;31m\u001b[KRings\u001b[m\u001b[K: The Two Towers\t2002\t2\t6\t\t\r",
       "\r",
       "The Lord of the \u001b[01;31m\u001b[KRings\u001b[m\u001b[K: The Fellowship of the Ring\t2001\t4\t13\t\t\r",
       "\r",
       "The Lord of the \u001b[01;31m\u001b[KRings\u001b[m\u001b[K: The Return of the King\t2003\t11\t11"
      ]
     },
     "execution_count": 22,
     "metadata": {},
     "output_type": "execute_result"
    }
   ],
   "source": [
    "grep Rings oscars.tsv"
   ]
  },
  {
   "cell_type": "code",
   "execution_count": 25,
   "metadata": {
    "collapsed": false
   },
   "outputs": [
    {
     "name": "stdout",
     "output_type": "stream",
     "text": [
      "math_attendance  math_grades  physics_attendance  physics_grades\r\n"
     ]
    },
    {
     "data": {
      "text/plain": [
       "math_attendance  math_grades  physics_attendance  physics_grades"
      ]
     },
     "execution_count": 25,
     "metadata": {},
     "output_type": "execute_result"
    }
   ],
   "source": [
    "cd students"
   ]
  },
  {
   "cell_type": "code",
   "execution_count": 27,
   "metadata": {
    "collapsed": false
   },
   "outputs": [
    {
     "name": "stdout",
     "output_type": "stream",
     "text": [
      "\u001b[35m\u001b[Kmath_grades\u001b[m\u001b[K\u001b[36m\u001b[K:\u001b[m\u001b[K\u001b[01;31m\u001b[Kbruce\u001b[m\u001b[K 61\n",
      "\u001b[35m\u001b[Kphysics_grades\u001b[m\u001b[K\u001b[36m\u001b[K:\u001b[m\u001b[K\u001b[01;31m\u001b[Kbruce\u001b[m\u001b[K 99\n"
     ]
    },
    {
     "data": {
      "text/plain": [
       "\u001b[35m\u001b[Kmath_grades\u001b[m\u001b[K\u001b[36m\u001b[K:\u001b[m\u001b[K\u001b[01;31m\u001b[Kbruce\u001b[m\u001b[K 61\r",
       "\u001b[35m\u001b[Kphysics_grades\u001b[m\u001b[K\u001b[36m\u001b[K:\u001b[m\u001b[K\u001b[01;31m\u001b[Kbruce\u001b[m\u001b[K 99"
      ]
     },
     "execution_count": 27,
     "metadata": {},
     "output_type": "execute_result"
    }
   ],
   "source": [
    "grep bruce *grades # multiple input files with wildcard"
   ]
  },
  {
   "cell_type": "code",
   "execution_count": 28,
   "metadata": {
    "collapsed": false
   },
   "outputs": [
    {
     "name": "stdout",
     "output_type": "stream",
     "text": [
      "\u001b[35m\u001b[Kmath_grades\u001b[m\u001b[K\u001b[36m\u001b[K:\u001b[m\u001b[K\u001b[01;31m\u001b[Ksteve\u001b[m\u001b[K 43\r\n"
     ]
    },
    {
     "data": {
      "text/plain": [
       "\u001b[35m\u001b[Kmath_grades\u001b[m\u001b[K\u001b[36m\u001b[K:\u001b[m\u001b[K\u001b[01;31m\u001b[Ksteve\u001b[m\u001b[K 43"
      ]
     },
     "execution_count": 28,
     "metadata": {},
     "output_type": "execute_result"
    }
   ],
   "source": [
    "grep steve *grades"
   ]
  },
  {
   "cell_type": "code",
   "execution_count": 29,
   "metadata": {
    "collapsed": false
   },
   "outputs": [
    {
     "name": "stdout",
     "output_type": "stream",
     "text": [
      "clark 55\n",
      "peter 70\n",
      "tony 99\n",
      "bruce 99\n",
      "Steve 33\n",
      "jonathan 100\n",
      "logan 45\n"
     ]
    },
    {
     "data": {
      "text/plain": [
       "clark 55\r",
       "peter 70\r",
       "tony 99\r",
       "bruce 99\r",
       "Steve 33\r",
       "jonathan 100\r",
       "logan 45"
      ]
     },
     "execution_count": 29,
     "metadata": {},
     "output_type": "execute_result"
    }
   ],
   "source": [
    "cat physics_grades"
   ]
  },
  {
   "cell_type": "markdown",
   "metadata": {},
   "source": [
    "Steve here with uppercase S, so "
   ]
  },
  {
   "cell_type": "code",
   "execution_count": 30,
   "metadata": {
    "collapsed": false
   },
   "outputs": [
    {
     "name": "stdout",
     "output_type": "stream",
     "text": [
      "\u001b[35m\u001b[Kmath_grades\u001b[m\u001b[K\u001b[36m\u001b[K:\u001b[m\u001b[K\u001b[01;31m\u001b[Ksteve\u001b[m\u001b[K 43\n",
      "\u001b[35m\u001b[Kphysics_grades\u001b[m\u001b[K\u001b[36m\u001b[K:\u001b[m\u001b[K\u001b[01;31m\u001b[KSteve\u001b[m\u001b[K 33\n"
     ]
    },
    {
     "data": {
      "text/plain": [
       "\u001b[35m\u001b[Kmath_grades\u001b[m\u001b[K\u001b[36m\u001b[K:\u001b[m\u001b[K\u001b[01;31m\u001b[Ksteve\u001b[m\u001b[K 43\r",
       "\u001b[35m\u001b[Kphysics_grades\u001b[m\u001b[K\u001b[36m\u001b[K:\u001b[m\u001b[K\u001b[01;31m\u001b[KSteve\u001b[m\u001b[K 33"
      ]
     },
     "execution_count": 30,
     "metadata": {},
     "output_type": "execute_result"
    }
   ],
   "source": [
    "grep -i steve *grades"
   ]
  },
  {
   "cell_type": "code",
   "execution_count": 31,
   "metadata": {
    "collapsed": false
   },
   "outputs": [
    {
     "name": "stdout",
     "output_type": "stream",
     "text": [
      "\n",
      "bruce\n",
      "clark\n",
      "jonathan\n",
      "logan\n",
      "peter\n",
      "steve\n",
      "tony\n"
     ]
    },
    {
     "data": {
      "text/plain": [
       "bruce\r",
       "clark\r",
       "jonathan\r",
       "logan\r",
       "peter\r",
       "steve\r",
       "tony"
      ]
     },
     "execution_count": 31,
     "metadata": {},
     "output_type": "execute_result"
    }
   ],
   "source": [
    "grep -v lecture math_attendance | sort | uniq"
   ]
  },
  {
   "cell_type": "code",
   "execution_count": 32,
   "metadata": {
    "collapsed": false
   },
   "outputs": [
    {
     "name": "stdout",
     "output_type": "stream",
     "text": [
      "bruce\n",
      "clark\n",
      "jonathan\n",
      "lecture 1\n",
      "lecture 2\n",
      "lecture 3\n",
      "lecture 4\n",
      "lecture 5\n",
      "logan\n",
      "peter\n",
      "steve\n",
      "tony\n"
     ]
    },
    {
     "data": {
      "text/plain": [
       "bruce\r",
       "clark\r",
       "jonathan\r",
       "lecture 1\r",
       "lecture 2\r",
       "lecture 3\r",
       "lecture 4\r",
       "lecture 5\r",
       "logan\r",
       "peter\r",
       "steve\r",
       "tony"
      ]
     },
     "execution_count": 32,
     "metadata": {},
     "output_type": "execute_result"
    }
   ],
   "source": [
    "grep -v \"^$\" math_attendance | sort | uniq # without empty lines"
   ]
  },
  {
   "cell_type": "code",
   "execution_count": 41,
   "metadata": {
    "collapsed": false
   },
   "outputs": [
    {
     "name": "stdout",
     "output_type": "stream",
     "text": [
      "      5 peter\n",
      "      5 clark\n",
      "      4 steve\n",
      "      3 tony\n",
      "      3 logan\n",
      "      3 jonathan\n",
      "      3 bruce\n"
     ]
    },
    {
     "data": {
      "text/plain": [
       "5 peter\r",
       "      5 clark\r",
       "      4 steve\r",
       "      3 tony\r",
       "      3 logan\r",
       "      3 jonathan\r",
       "      3 bruce"
      ]
     },
     "execution_count": 41,
     "metadata": {},
     "output_type": "execute_result"
    }
   ],
   "source": [
    "grep -Ev \"^$|lecture\" math_attendance |sort| uniq -c | sort -r"
   ]
  },
  {
   "cell_type": "code",
   "execution_count": null,
   "metadata": {
    "collapsed": true
   },
   "outputs": [],
   "source": []
  },
  {
   "cell_type": "markdown",
   "metadata": {},
   "source": [
    "## find\n",
    "\n",
    ":\\$ find *directory* [options]\n",
    "\n",
    "** -name ** -- find by name"
   ]
  },
  {
   "cell_type": "code",
   "execution_count": 42,
   "metadata": {
    "collapsed": false
   },
   "outputs": [
    {
     "name": "stdout",
     "output_type": "stream",
     "text": [
      "..\n",
      "../sherlock\n",
      "../alice\n",
      "../dracula\n",
      "../.ipynb_checkpoints\n",
      "../.ipynb_checkpoints/bash-checkpoint.ipynb\n",
      "../holmes\n",
      "../bash.ipynb\n",
      "../students\n",
      "../students/physics_attendance\n",
      "../students/physics_grades\n",
      "../students/math_grades\n",
      "../students/.DS_Store\n",
      "../students/math_attendance\n",
      "../wonderland\n",
      "../oscars.tsv\n",
      "../pictures\n",
      "../pictures/b.jpg\n",
      "../pictures/a.jpg\n",
      "../text\n",
      "../text/important_document_v17.doc\n",
      "../text/fileb3.zip\n",
      "../text/fileb2.jpg\n",
      "../text/important_document_v18.doc\n",
      "../text/filec1.txt\n",
      "../text/fileb2.txt\n",
      "../text/notesВт. апр. 19 10:33:42 MSK 2016.txt\n",
      "../text/filec3.txt\n",
      "../text/filec3.jpg\n",
      "../text/a\n",
      "../text/a/filea3.jpg\n",
      "../text/a/filea2.jpg\n",
      "../text/a/filea3.txt\n",
      "../text/a/filea1.jpg\n",
      "../text/a/filea2.txt\n",
      "../text/a/filea1.txt\n",
      "../text/listing.txt\n",
      "../text/important_document_v19.doc\n",
      "../text/filea2.zip\n",
      "../text/fileb3.txt\n",
      "../text/filec2.zip\n",
      "../text/fileb2.zip\n",
      "../text/fileb1.zip\n",
      "../text/shopping.txt\n",
      "../text/filec1.jpg\n",
      "../text/filea1.zip\n",
      "../text/filec3.zip\n",
      "../text/filec2.jpg\n",
      "../text/notes.txt\n",
      "../text/filec1.zip\n",
      "../text/filea3.zip\n",
      "../text/fileb1.txt\n",
      "../text/filec2.txt\n",
      "../text/fileb1.jpg\n",
      "../text/fileb3.jpg\n"
     ]
    },
    {
     "data": {
      "text/plain": [
       "..\r",
       "../sherlock\r",
       "../alice\r",
       "../dracula\r",
       "../.ipynb_checkpoints\r",
       "../.ipynb_checkpoints/bash-checkpoint.ipynb\r",
       "../holmes\r",
       "../bash.ipynb\r",
       "../students\r",
       "../students/physics_attendance\r",
       "../students/physics_grades\r",
       "../students/math_grades\r",
       "../students/.DS_Store\r",
       "../students/math_attendance\r",
       "../wonderland\r",
       "../oscars.tsv\r",
       "../pictures\r",
       "../pictures/b.jpg\r",
       "../pictures/a.jpg\r",
       "../text\r",
       "../text/important_document_v17.doc\r",
       "../text/fileb3.zip\r",
       "../text/fileb2.jpg\r",
       "../text/important_document_v18.doc\r",
       "../text/filec1.txt\r",
       "../text/fileb2.txt\r",
       "../text/notesВт. апр. 19 10:33:42 MSK 2016.txt\r",
       "../text/filec3.txt\r",
       "../text/filec3.jpg\r",
       "../text/a\r",
       "../text/a/filea3.jpg\r",
       "../text/a/filea2.jpg\r",
       "../text/a/filea3.txt\r",
       "../text/a/filea1.jpg\r",
       "../text/a/filea2.txt\r",
       "../text/a/filea1.txt\r",
       "../text/listing.txt\r",
       "../text/important_document_v19.doc\r",
       "../text/filea2.zip\r",
       "../text/fileb3.txt\r",
       "../text/filec2.zip\r",
       "../text/fileb2.zip\r",
       "../text/fileb1.zip\r",
       "../text/shopping.txt\r",
       "../text/filec1.jpg\r",
       "../text/filea1.zip\r",
       "../text/filec3.zip\r",
       "../text/filec2.jpg\r",
       "../text/notes.txt\r",
       "../text/filec1.zip\r",
       "../text/filea3.zip\r",
       "../text/fileb1.txt\r",
       "../text/filec2.txt\r",
       "../text/fileb1.jpg\r",
       "../text/fileb3.jpg"
      ]
     },
     "execution_count": 42,
     "metadata": {},
     "output_type": "execute_result"
    }
   ],
   "source": [
    "find .."
   ]
  },
  {
   "cell_type": "code",
   "execution_count": 44,
   "metadata": {
    "collapsed": false
   },
   "outputs": [
    {
     "name": "stdout",
     "output_type": "stream",
     "text": [
      "/usr/local/lib/node_modules/ionic/node_modules/npm/node_modules/node-gyp/gyp/tools/emacs\n",
      "/usr/local/lib/node_modules/ionic/node_modules/ionic-app-lib/node_modules/node-sass/node_modules/node-gyp/gyp/tools/emacs\n",
      "/usr/local/lib/node_modules/ionic/node_modules/ionic-app-lib/node_modules/ionic-cordova-lib/node_modules/npm/node_modules/node-gyp/gyp/tools/emacs\n",
      "/usr/local/lib/node_modules/npm/node_modules/node-gyp/gyp/tools/emacs\n",
      "/usr/local/lib/node_modules/cordova/node_modules/npm/node_modules/node-gyp/gyp/tools/emacs\n",
      "/usr/local/share/emacs\n",
      "/usr/share/emacs\n",
      "find: `/usr/share/doc/google-chrome-stable': Отказано в доступе\n"
     ]
    },
    {
     "data": {
      "text/plain": [
       "/usr/local/lib/node_modules/ionic/node_modules/npm/node_modules/node-gyp/gyp/tools/emacs\r",
       "/usr/local/lib/node_modules/ionic/node_modules/ionic-app-lib/node_modules/node-sass/node_modules/node-gyp/gyp/tools/emacs\r",
       "/usr/local/lib/node_modules/ionic/node_modules/ionic-app-lib/node_modules/ionic-cordova-lib/node_modules/npm/node_modules/node-gyp/gyp/tools/emacs\r",
       "/usr/local/lib/node_modules/npm/node_modules/node-gyp/gyp/tools/emacs\r",
       "/usr/local/lib/node_modules/cordova/node_modules/npm/node_modules/node-gyp/gyp/tools/emacs\r",
       "/usr/local/share/emacs\r",
       "/usr/share/emacs\r",
       "find: `/usr/share/doc/google-chrome-stable': Отказано в доступе"
      ]
     },
     "execution_count": 44,
     "metadata": {},
     "output_type": "execute_result"
    }
   ],
   "source": [
    "find /usr -name emacs"
   ]
  },
  {
   "cell_type": "markdown",
   "metadata": {
    "collapsed": false
   },
   "source": [
    "### Example: replacing tabs with semicolon"
   ]
  },
  {
   "cell_type": "code",
   "execution_count": 2,
   "metadata": {
    "collapsed": false
   },
   "outputs": [
    {
     "data": {},
     "execution_count": 2,
     "metadata": {},
     "output_type": "execute_result"
    }
   ],
   "source": [
    "tr \\\\t \\; < oscars.tsv > oscars.csv "
   ]
  },
  {
   "cell_type": "code",
   "execution_count": 3,
   "metadata": {
    "collapsed": false
   },
   "outputs": [
    {
     "name": "stdout",
     "output_type": "stream",
     "text": [
      "My Fair Lady;1964;8;12;;\n",
      "On the Waterfront;1954;8;12;;\n",
      "Slumdog Millionaire;2008;8;10;;\n",
      "Gigi;1958;9;9;;\n",
      "The English Patient;1996;9;12;;\n",
      "The Last Emperor;1987;9;9;;\n",
      "West Side Story;1961;10;11;;\n",
      "Ben-Hur;1959;11;12;;\n",
      "The Lord of the Rings: The Return of the King;2003;11;11;;\n",
      "Titanic;1997;11;14;;\n"
     ]
    },
    {
     "data": {
      "text/plain": [
       "My Fair Lady;1964;8;12;;\r",
       "\r",
       "On the Waterfront;1954;8;12;;\r",
       "\r",
       "Slumdog Millionaire;2008;8;10;;\r",
       "\r",
       "Gigi;1958;9;9;;\r",
       "\r",
       "The English Patient;1996;9;12;;\r",
       "\r",
       "The Last Emperor;1987;9;9;;\r",
       "\r",
       "West Side Story;1961;10;11;;\r",
       "\r",
       "Ben-Hur;1959;11;12;;\r",
       "\r",
       "The Lord of the Rings: The Return of the King;2003;11;11;;\r",
       "\r",
       "Titanic;1997;11;14;;"
      ]
     },
     "execution_count": 3,
     "metadata": {},
     "output_type": "execute_result"
    }
   ],
   "source": [
    "tail oscars.csv"
   ]
  },
  {
   "cell_type": "markdown",
   "metadata": {},
   "source": [
    "# Advanced tools\n",
    "\n",
    "## sed\n",
    "\n",
    "* Stream EDitor\n",
    "\n",
    "* Transform text\n",
    "\n",
    "* Replace world\n",
    "\n",
    "Most common use: replace \"old\" with \"new\"\n",
    "\n",
    "\\$ sed 's/old/new/g'\n",
    "\n",
    "## awk\n",
    "\n",
    "* Complete programming language\n",
    "\n",
    "* Very useful for column-oriented files"
   ]
  },
  {
   "cell_type": "code",
   "execution_count": 4,
   "metadata": {
    "collapsed": false
   },
   "outputs": [
    {
     "data": {},
     "execution_count": 4,
     "metadata": {},
     "output_type": "execute_result"
    }
   ],
   "source": [
    "sed 's/curiouser/stranger/g' alice > alice2"
   ]
  },
  {
   "cell_type": "code",
   "execution_count": 13,
   "metadata": {
    "collapsed": false
   },
   "outputs": [
    {
     "name": "stdout",
     "output_type": "stream",
     "text": [
      "1\r\n"
     ]
    },
    {
     "data": {
      "text/plain": [
       "1"
      ]
     },
     "execution_count": 13,
     "metadata": {},
     "output_type": "execute_result"
    }
   ],
   "source": [
    "grep curiouser alice -c"
   ]
  },
  {
   "cell_type": "code",
   "execution_count": 14,
   "metadata": {
    "collapsed": false
   },
   "outputs": [
    {
     "name": "stdout",
     "output_type": "stream",
     "text": [
      "0\r\n"
     ]
    },
    {
     "data": {
      "text/plain": [
       "0"
      ]
     },
     "execution_count": 14,
     "metadata": {},
     "output_type": "execute_result"
    }
   ],
   "source": [
    "grep curiouser alice2 -c"
   ]
  },
  {
   "cell_type": "code",
   "execution_count": 15,
   "metadata": {
    "collapsed": false
   },
   "outputs": [
    {
     "name": "stdout",
     "output_type": "stream",
     "text": [
      "\"Curiouser and \u001b[01;31m\u001b[Kstranger\u001b[m\u001b[K!\" cried Alice (she was so much surprised that\r",
      "\r\n"
     ]
    },
    {
     "data": {
      "text/plain": [
       "\"Curiouser and \u001b[01;31m\u001b[Kstranger\u001b[m\u001b[K!\" cried Alice (she was so much surprised that"
      ]
     },
     "execution_count": 15,
     "metadata": {},
     "output_type": "execute_result"
    }
   ],
   "source": [
    "grep stranger alice2"
   ]
  },
  {
   "cell_type": "code",
   "execution_count": 22,
   "metadata": {
    "collapsed": false
   },
   "outputs": [
    {
     "name": "stdout",
     "output_type": "stream",
     "text": [
      "Film;Year;Awards;Nominations;;Note: data taken from http://en.wikipedia.org/wiki/List_of_Academy_Award-winning_films released under CC-BY-SA http://creativecommons.org/licenses/by-sa/3.0/\n",
      "7th Heaven;1927/28;3;5;;\n",
      "Sunrise;1927/28;3;4[17];;\n",
      "The Dove;1927/28;1;1;;\n",
      "The Last Command;1927/28;1;2;;\n",
      "The Way of All Flesh;1927/28;1;1;;\n",
      "Two Arabian Knights;1927/28;1;1;;\n",
      "Underworld;1927/28;1;1;;\n",
      "Wings;1927/28;2;2;;\n",
      "Coquette;1928/29;1;1;;\n"
     ]
    },
    {
     "data": {
      "text/plain": [
       "Film;Year;Awards;Nominations;;Note: data taken from http://en.wikipedia.org/wiki/List_of_Academy_Award-winning_films released under CC-BY-SA http://creativecommons.org/licenses/by-sa/3.0/\r",
       "\r",
       "7th Heaven;1927/28;3;5;;\r",
       "\r",
       "Sunrise;1927/28;3;4[17];;\r",
       "\r",
       "The Dove;1927/28;1;1;;\r",
       "\r",
       "The Last Command;1927/28;1;2;;\r",
       "\r",
       "The Way of All Flesh;1927/28;1;1;;\r",
       "\r",
       "Two Arabian Knights;1927/28;1;1;;\r",
       "\r",
       "Underworld;1927/28;1;1;;\r",
       "\r",
       "Wings;1927/28;2;2;;\r",
       "\r",
       "Coquette;1928/29;1;1;;"
      ]
     },
     "execution_count": 22,
     "metadata": {},
     "output_type": "execute_result"
    }
   ],
   "source": [
    "sort -nk2 -t\\; oscars.csv | head"
   ]
  },
  {
   "cell_type": "code",
   "execution_count": 23,
   "metadata": {
    "collapsed": false
   },
   "outputs": [
    {
     "data": {},
     "execution_count": 23,
     "metadata": {},
     "output_type": "execute_result"
    }
   ],
   "source": [
    "cd students"
   ]
  },
  {
   "cell_type": "code",
   "execution_count": 24,
   "metadata": {
    "collapsed": false
   },
   "outputs": [
    {
     "name": "stdout",
     "output_type": "stream",
     "text": [
      "clark 50\tclark 55\n",
      "bruce 61\tpeter 70\n",
      "steve 43\ttony 99\n",
      "jonathan 100\tbruce 99\n",
      "logan 19\tSteve 33\n",
      "peter 78\tjonathan 100\n",
      "tony 92\tlogan 45\n"
     ]
    },
    {
     "data": {
      "text/plain": [
       "clark 50\tclark 55\r",
       "bruce 61\tpeter 70\r",
       "steve 43\ttony 99\r",
       "jonathan 100\tbruce 99\r",
       "logan 19\tSteve 33\r",
       "peter 78\tjonathan 100\r",
       "tony 92\tlogan 45"
      ]
     },
     "execution_count": 24,
     "metadata": {},
     "output_type": "execute_result"
    }
   ],
   "source": [
    "paste *grades "
   ]
  },
  {
   "cell_type": "code",
   "execution_count": null,
   "metadata": {
    "collapsed": false
   },
   "outputs": [],
   "source": []
  },
  {
   "cell_type": "markdown",
   "metadata": {
    "collapsed": true
   },
   "source": [
    "## Jobs and processes\n",
    "\n",
    "** ctrl+z ** -- suspend command\n",
    "\n",
    "** fg *%id* ** -- foreground\n",
    "\n",
    "** bg *%id* ** -- background\n",
    "*id is not necessary*\n",
    "\n",
    "Add & to run command in background: *cp /media/very_bif_file . &*\n",
    "\n",
    "** kill *%job_id* ** -- end job id 1\n",
    "\n",
    "** kill *process_id* ** -- end process id 1\n",
    "\n",
    "** jobs ** -- listall jobs\n",
    "\n",
    "** ps -e ** -- show all processes, *often used with grep*\n",
    "\n",
    "** xkill ** -- point out program to kill on X Windows\n",
    "\n",
    "** pkill ** -- match process by part of name *dangerous*\n",
    "\n",
    "** top ** -- by default, top processes by CPU usage *q to exit*\n",
    "\n",
    "\n"
   ]
  },
  {
   "cell_type": "markdown",
   "metadata": {},
   "source": [
    "## Customization"
   ]
  },
  {
   "cell_type": "markdown",
   "metadata": {},
   "source": [
    "### aliases\n",
    "\n",
    "** alias ** -- output all aliases\n",
    "\n",
    "** alias gerp=grep ** -- create alias, no whitespaces around equal sign\n",
    "\n",
    "** \\command ** -- run without using alias of command\n",
    "\n",
    "\n",
    "### bash startup files\n",
    "\n",
    "** .profile ** -- loaded for login shell (e.g. ssh)\n",
    "\n",
    "** .bashrc ** -- loaded for non-login shell (e.g. Konsole, Terminal)\n",
    "\n",
    "### environment varialbles\n",
    "\n",
    "** \\\\$PS1 ** -- prompt format\n",
    "\n",
    "** env ** -- list all variables\n",
    "\n",
    "** PATH=\"\\\\$PATH:~/bin/ ** -- add a new path to global path (setting value - without dollar sign, getting value - with it)\n",
    "\n",
    "** export *variable* ** -- make variable visible in subproceses\n",
    "\n",
    "** chsh ** -- change shell"
   ]
  },
  {
   "cell_type": "code",
   "execution_count": null,
   "metadata": {
    "collapsed": true
   },
   "outputs": [],
   "source": []
  },
  {
   "cell_type": "code",
   "execution_count": null,
   "metadata": {
    "collapsed": true
   },
   "outputs": [],
   "source": []
  },
  {
   "cell_type": "code",
   "execution_count": null,
   "metadata": {
    "collapsed": true
   },
   "outputs": [],
   "source": []
  },
  {
   "cell_type": "code",
   "execution_count": null,
   "metadata": {
    "collapsed": true
   },
   "outputs": [],
   "source": []
  },
  {
   "cell_type": "code",
   "execution_count": null,
   "metadata": {
    "collapsed": true
   },
   "outputs": [],
   "source": []
  },
  {
   "cell_type": "code",
   "execution_count": null,
   "metadata": {
    "collapsed": true
   },
   "outputs": [],
   "source": []
  }
 ],
 "metadata": {
  "kernelspec": {
   "display_name": "MetaKernel Bash",
   "language": "bash",
   "name": "metakernel_bash"
  },
  "language_info": {
   "file_extension": ".sh",
   "help_links": [
    {
     "text": "MetaKernel Magics",
     "url": "https://github.com/calysto/metakernel/blob/master/metakernel/magics/README.md"
    }
   ],
   "mimetype": "text/x-bash",
   "name": "bash"
  }
 },
 "nbformat": 4,
 "nbformat_minor": 0
}
