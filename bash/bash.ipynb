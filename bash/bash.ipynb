{
 "cells": [
  {
   "cell_type": "markdown",
   "metadata": {},
   "source": [
    "# Bash commands\n",
    "\n",
    "## movement keys\n",
    "\n",
    "** ctrl-a ** -- start of line\n",
    "\n",
    "** ctrl-e ** -- end of line\n",
    "\n",
    "** ctrl-d ** -- delete a char\n",
    "\n",
    "** ctrl-h ** -- delete a char backward\n",
    "\n",
    "** alt-d ** -- delete a word\n",
    "\n",
    "** ctrl-w ** -- delete a word backward\n",
    "\n",
    "** ctrl-k ** -- delete rest of line\n",
    "\n",
    "** ctrl-u ** -- delete from start of line \n",
    "\n",
    "** ctrl-r ** -- history search\n",
    "\n",
    "## wildcards\n",
    "\n",
    "**\\*** -- 0 or more chars\n",
    "\n",
    "**?**  -- exactly one char\n",
    "\n",
    "**[ab7\\_]** -- one of chars in brackets\n",
    "\n",
    "**[^xy1]**  -- exlcuding chars in brackets\n",
    "\n",
    "**[A-N2-6]** -- ranges\n",
    "\n",
    "**{a,b,c}.txt** -- brace expansion, will match a.txt, b.txt and c.txt\n",
    "\n",
    "**{a..c}{1..3}.txt** -- brace expansion with ranges, will match a1.txt, a2.txt..b1.txt..c2.txt, c3.txt\n",
    "\n",
    "**mv \\*{txt,jpg} docs/  ===> mv \\*txt \\*jpg docs/** -- brace expansion comes first before wilcard expansion"
   ]
  },
  {
   "cell_type": "code",
   "execution_count": 1,
   "metadata": {
    "collapsed": false
   },
   "outputs": [
    {
     "name": "stdout",
     "output_type": "stream",
     "text": [
      "/home/major/work/python/stuff/python/foundations/bash\r\n"
     ]
    },
    {
     "data": {
      "text/plain": [
       "/home/major/work/python/stuff/python/foundations/bash"
      ]
     },
     "execution_count": 1,
     "metadata": {},
     "output_type": "execute_result"
    }
   ],
   "source": []
  },
  {
   "cell_type": "markdown",
   "metadata": {
    "collapsed": false
   },
   "source": [
    "### setting up"
   ]
  },
  {
   "cell_type": "code",
   "execution_count": 3,
   "metadata": {
    "collapsed": false
   },
   "outputs": [
    {
     "data": {},
     "execution_count": 3,
     "metadata": {},
     "output_type": "execute_result"
    }
   ],
   "source": [
    "touch a.jpg b.jpg c.txt d.txt"
   ]
  },
  {
   "cell_type": "code",
   "execution_count": 5,
   "metadata": {
    "collapsed": false
   },
   "outputs": [
    {
     "name": "stdout",
     "output_type": "stream",
     "text": [
      "\u001b[0m\u001b[01;35ma.jpg\u001b[0m  bash.ipynb  \u001b[01;35mb.jpg\u001b[0m  c.txt  d.txt\r\n"
     ]
    },
    {
     "data": {
      "text/plain": [
       "\u001b[0m\u001b[01;35ma.jpg\u001b[0m  bash.ipynb  \u001b[01;35mb.jpg\u001b[0m  c.txt  d.txt"
      ]
     },
     "execution_count": 5,
     "metadata": {},
     "output_type": "execute_result"
    }
   ],
   "source": [
    "ls"
   ]
  },
  {
   "cell_type": "code",
   "execution_count": 6,
   "metadata": {
    "collapsed": false
   },
   "outputs": [
    {
     "data": {},
     "execution_count": 6,
     "metadata": {},
     "output_type": "execute_result"
    }
   ],
   "source": [
    "mkdir pictures"
   ]
  },
  {
   "cell_type": "code",
   "execution_count": 7,
   "metadata": {
    "collapsed": false
   },
   "outputs": [
    {
     "data": {},
     "execution_count": 7,
     "metadata": {},
     "output_type": "execute_result"
    }
   ],
   "source": [
    "mkdir text"
   ]
  },
  {
   "cell_type": "code",
   "execution_count": 8,
   "metadata": {
    "collapsed": false
   },
   "outputs": [
    {
     "data": {},
     "execution_count": 8,
     "metadata": {},
     "output_type": "execute_result"
    }
   ],
   "source": [
    "mv *jpg pictures/"
   ]
  },
  {
   "cell_type": "code",
   "execution_count": 9,
   "metadata": {
    "collapsed": false
   },
   "outputs": [
    {
     "data": {},
     "execution_count": 9,
     "metadata": {},
     "output_type": "execute_result"
    }
   ],
   "source": [
    "mv *txt text/"
   ]
  },
  {
   "cell_type": "code",
   "execution_count": 10,
   "metadata": {
    "collapsed": false
   },
   "outputs": [
    {
     "name": "stdout",
     "output_type": "stream",
     "text": [
      ".:\n",
      "bash.ipynb  \u001b[0m\u001b[01;34mpictures\u001b[0m  \u001b[01;34mtext\u001b[0m\n",
      "\n",
      "./pictures:\n",
      "\u001b[01;35ma.jpg\u001b[0m  \u001b[01;35mb.jpg\u001b[0m\n",
      "\n",
      "./text:\n",
      "c.txt  d.txt\n"
     ]
    },
    {
     "data": {
      "text/plain": [
       ".:\r",
       "bash.ipynb  \u001b[0m\u001b[01;34mpictures\u001b[0m  \u001b[01;34mtext\u001b[0m\r",
       "\r",
       "./pictures:\r",
       "\u001b[01;35ma.jpg\u001b[0m  \u001b[01;35mb.jpg\u001b[0m\r",
       "\r",
       "./text:\r",
       "c.txt  d.txt"
      ]
     },
     "execution_count": 10,
     "metadata": {},
     "output_type": "execute_result"
    }
   ],
   "source": [
    "ls -R"
   ]
  },
  {
   "cell_type": "code",
   "execution_count": 1,
   "metadata": {
    "collapsed": false
   },
   "outputs": [
    {
     "data": {},
     "execution_count": 1,
     "metadata": {},
     "output_type": "execute_result"
    }
   ],
   "source": [
    "cd text"
   ]
  },
  {
   "cell_type": "code",
   "execution_count": 2,
   "metadata": {
    "collapsed": false
   },
   "outputs": [
    {
     "data": {},
     "execution_count": 2,
     "metadata": {},
     "output_type": "execute_result"
    }
   ],
   "source": [
    "touch important_document_v{1..19}.doc"
   ]
  },
  {
   "cell_type": "code",
   "execution_count": 3,
   "metadata": {
    "collapsed": false
   },
   "outputs": [
    {
     "name": "stdout",
     "output_type": "stream",
     "text": [
      "c.txt                       important_document_v19.doc\n",
      "d.txt                       important_document_v1.doc\n",
      "important_document_v10.doc  important_document_v2.doc\n",
      "important_document_v11.doc  important_document_v3.doc\n",
      "important_document_v12.doc  important_document_v4.doc\n",
      "important_document_v13.doc  important_document_v5.doc\n",
      "important_document_v14.doc  important_document_v6.doc\n",
      "important_document_v15.doc  important_document_v7.doc\n",
      "important_document_v16.doc  important_document_v8.doc\n",
      "important_document_v17.doc  important_document_v9.doc\n",
      "important_document_v18.doc\n"
     ]
    },
    {
     "data": {
      "text/plain": [
       "c.txt                       important_document_v19.doc\r",
       "d.txt                       important_document_v1.doc\r",
       "important_document_v10.doc  important_document_v2.doc\r",
       "important_document_v11.doc  important_document_v3.doc\r",
       "important_document_v12.doc  important_document_v4.doc\r",
       "important_document_v13.doc  important_document_v5.doc\r",
       "important_document_v14.doc  important_document_v6.doc\r",
       "important_document_v15.doc  important_document_v7.doc\r",
       "important_document_v16.doc  important_document_v8.doc\r",
       "important_document_v17.doc  important_document_v9.doc\r",
       "important_document_v18.doc"
      ]
     },
     "execution_count": 3,
     "metadata": {},
     "output_type": "execute_result"
    }
   ],
   "source": [
    "ls"
   ]
  },
  {
   "cell_type": "code",
   "execution_count": 4,
   "metadata": {
    "collapsed": false
   },
   "outputs": [
    {
     "data": {},
     "execution_count": 4,
     "metadata": {},
     "output_type": "execute_result"
    }
   ],
   "source": [
    "rm {c,d}.txt"
   ]
  },
  {
   "cell_type": "code",
   "execution_count": 5,
   "metadata": {
    "collapsed": false
   },
   "outputs": [
    {
     "name": "stdout",
     "output_type": "stream",
     "text": [
      "important_document_v10.doc  important_document_v1.doc\n",
      "important_document_v11.doc  important_document_v2.doc\n",
      "important_document_v12.doc  important_document_v3.doc\n",
      "important_document_v13.doc  important_document_v4.doc\n",
      "important_document_v14.doc  important_document_v5.doc\n",
      "important_document_v15.doc  important_document_v6.doc\n",
      "important_document_v16.doc  important_document_v7.doc\n",
      "important_document_v17.doc  important_document_v8.doc\n",
      "important_document_v18.doc  important_document_v9.doc\n",
      "important_document_v19.doc\n"
     ]
    },
    {
     "data": {
      "text/plain": [
       "important_document_v10.doc  important_document_v1.doc\r",
       "important_document_v11.doc  important_document_v2.doc\r",
       "important_document_v12.doc  important_document_v3.doc\r",
       "important_document_v13.doc  important_document_v4.doc\r",
       "important_document_v14.doc  important_document_v5.doc\r",
       "important_document_v15.doc  important_document_v6.doc\r",
       "important_document_v16.doc  important_document_v7.doc\r",
       "important_document_v17.doc  important_document_v8.doc\r",
       "important_document_v18.doc  important_document_v9.doc\r",
       "important_document_v19.doc"
      ]
     },
     "execution_count": 5,
     "metadata": {},
     "output_type": "execute_result"
    }
   ],
   "source": [
    "ls"
   ]
  },
  {
   "cell_type": "code",
   "execution_count": 6,
   "metadata": {
    "collapsed": false
   },
   "outputs": [
    {
     "data": {},
     "execution_count": 6,
     "metadata": {},
     "output_type": "execute_result"
    }
   ],
   "source": [
    "rm important_document_v[234].doc"
   ]
  },
  {
   "cell_type": "code",
   "execution_count": 7,
   "metadata": {
    "collapsed": false
   },
   "outputs": [
    {
     "name": "stdout",
     "output_type": "stream",
     "text": [
      "important_document_v10.doc  important_document_v18.doc\n",
      "important_document_v11.doc  important_document_v19.doc\n",
      "important_document_v12.doc  important_document_v1.doc\n",
      "important_document_v13.doc  important_document_v5.doc\n",
      "important_document_v14.doc  important_document_v6.doc\n",
      "important_document_v15.doc  important_document_v7.doc\n",
      "important_document_v16.doc  important_document_v8.doc\n",
      "important_document_v17.doc  important_document_v9.doc\n"
     ]
    },
    {
     "data": {
      "text/plain": [
       "important_document_v10.doc  important_document_v18.doc\r",
       "important_document_v11.doc  important_document_v19.doc\r",
       "important_document_v12.doc  important_document_v1.doc\r",
       "important_document_v13.doc  important_document_v5.doc\r",
       "important_document_v14.doc  important_document_v6.doc\r",
       "important_document_v15.doc  important_document_v7.doc\r",
       "important_document_v16.doc  important_document_v8.doc\r",
       "important_document_v17.doc  important_document_v9.doc"
      ]
     },
     "execution_count": 7,
     "metadata": {},
     "output_type": "execute_result"
    }
   ],
   "source": [
    "ls"
   ]
  },
  {
   "cell_type": "code",
   "execution_count": 8,
   "metadata": {
    "collapsed": false
   },
   "outputs": [
    {
     "data": {},
     "execution_count": 8,
     "metadata": {},
     "output_type": "execute_result"
    }
   ],
   "source": [
    "rm important_document_v1[^789].doc"
   ]
  },
  {
   "cell_type": "code",
   "execution_count": 9,
   "metadata": {
    "collapsed": false
   },
   "outputs": [
    {
     "name": "stdout",
     "output_type": "stream",
     "text": [
      "important_document_v17.doc  important_document_v6.doc\n",
      "important_document_v18.doc  important_document_v7.doc\n",
      "important_document_v19.doc  important_document_v8.doc\n",
      "important_document_v1.doc   important_document_v9.doc\n",
      "important_document_v5.doc\n"
     ]
    },
    {
     "data": {
      "text/plain": [
       "important_document_v17.doc  important_document_v6.doc\r",
       "important_document_v18.doc  important_document_v7.doc\r",
       "important_document_v19.doc  important_document_v8.doc\r",
       "important_document_v1.doc   important_document_v9.doc\r",
       "important_document_v5.doc"
      ]
     },
     "execution_count": 9,
     "metadata": {},
     "output_type": "execute_result"
    }
   ],
   "source": [
    "ls"
   ]
  },
  {
   "cell_type": "code",
   "execution_count": 11,
   "metadata": {
    "collapsed": false
   },
   "outputs": [
    {
     "name": "stdout",
     "output_type": "stream",
     "text": [
      "rm: невозможно удалить «important_document_v?.doc»: Нет такого файла или каталога\r\n"
     ]
    },
    {
     "data": {
      "text/plain": [
       "rm: невозможно удалить «important_document_v?.doc»: Нет такого файла или каталога"
      ]
     },
     "execution_count": 11,
     "metadata": {},
     "output_type": "execute_result"
    }
   ],
   "source": [
    "rm important_document_v?.doc"
   ]
  },
  {
   "cell_type": "code",
   "execution_count": 12,
   "metadata": {
    "collapsed": false
   },
   "outputs": [
    {
     "name": "stdout",
     "output_type": "stream",
     "text": [
      "important_document_v17.doc  important_document_v19.doc\n",
      "important_document_v18.doc\n"
     ]
    },
    {
     "data": {
      "text/plain": [
       "important_document_v17.doc  important_document_v19.doc\r",
       "important_document_v18.doc"
      ]
     },
     "execution_count": 12,
     "metadata": {},
     "output_type": "execute_result"
    }
   ],
   "source": [
    "ls"
   ]
  },
  {
   "cell_type": "code",
   "execution_count": 14,
   "metadata": {
    "collapsed": false
   },
   "outputs": [
    {
     "data": {},
     "execution_count": 14,
     "metadata": {},
     "output_type": "execute_result"
    }
   ],
   "source": [
    "touch file{a,b,c}{1,2,3}.{jpg,txt,zip}"
   ]
  },
  {
   "cell_type": "code",
   "execution_count": 15,
   "metadata": {
    "collapsed": false
   },
   "outputs": [
    {
     "name": "stdout",
     "output_type": "stream",
     "text": [
      "\u001b[0m\u001b[01;35mfilea1.jpg\u001b[0m  \u001b[01;35mfilea3.jpg\u001b[0m  \u001b[01;35mfileb2.jpg\u001b[0m  \u001b[01;35mfilec1.jpg\u001b[0m  \u001b[01;35mfilec3.jpg\u001b[0m\n",
      "filea1.txt  filea3.txt  fileb2.txt  filec1.txt  filec3.txt\n",
      "\u001b[01;31mfilea1.zip\u001b[0m  \u001b[01;31mfilea3.zip\u001b[0m  \u001b[01;31mfileb2.zip\u001b[0m  \u001b[01;31mfilec1.zip\u001b[0m  \u001b[01;31mfilec3.zip\u001b[0m\n",
      "\u001b[01;35mfilea2.jpg\u001b[0m  \u001b[01;35mfileb1.jpg\u001b[0m  \u001b[01;35mfileb3.jpg\u001b[0m  \u001b[01;35mfilec2.jpg\u001b[0m  important_document_v17.doc\n",
      "filea2.txt  fileb1.txt  fileb3.txt  filec2.txt  important_document_v18.doc\n",
      "\u001b[01;31mfilea2.zip\u001b[0m  \u001b[01;31mfileb1.zip\u001b[0m  \u001b[01;31mfileb3.zip\u001b[0m  \u001b[01;31mfilec2.zip\u001b[0m  important_document_v19.doc\n"
     ]
    },
    {
     "data": {
      "text/plain": [
       "\u001b[0m\u001b[01;35mfilea1.jpg\u001b[0m  \u001b[01;35mfilea3.jpg\u001b[0m  \u001b[01;35mfileb2.jpg\u001b[0m  \u001b[01;35mfilec1.jpg\u001b[0m  \u001b[01;35mfilec3.jpg\u001b[0m\r",
       "filea1.txt  filea3.txt  fileb2.txt  filec1.txt  filec3.txt\r",
       "\u001b[01;31mfilea1.zip\u001b[0m  \u001b[01;31mfilea3.zip\u001b[0m  \u001b[01;31mfileb2.zip\u001b[0m  \u001b[01;31mfilec1.zip\u001b[0m  \u001b[01;31mfilec3.zip\u001b[0m\r",
       "\u001b[01;35mfilea2.jpg\u001b[0m  \u001b[01;35mfileb1.jpg\u001b[0m  \u001b[01;35mfileb3.jpg\u001b[0m  \u001b[01;35mfilec2.jpg\u001b[0m  important_document_v17.doc\r",
       "filea2.txt  fileb1.txt  fileb3.txt  filec2.txt  important_document_v18.doc\r",
       "\u001b[01;31mfilea2.zip\u001b[0m  \u001b[01;31mfileb1.zip\u001b[0m  \u001b[01;31mfileb3.zip\u001b[0m  \u001b[01;31mfilec2.zip\u001b[0m  important_document_v19.doc"
      ]
     },
     "execution_count": 15,
     "metadata": {},
     "output_type": "execute_result"
    }
   ],
   "source": [
    "ls"
   ]
  },
  {
   "cell_type": "code",
   "execution_count": 16,
   "metadata": {
    "collapsed": false
   },
   "outputs": [
    {
     "data": {},
     "execution_count": 16,
     "metadata": {},
     "output_type": "execute_result"
    }
   ],
   "source": [
    "mkdir a"
   ]
  },
  {
   "cell_type": "code",
   "execution_count": 17,
   "metadata": {
    "collapsed": false
   },
   "outputs": [
    {
     "data": {},
     "execution_count": 17,
     "metadata": {},
     "output_type": "execute_result"
    }
   ],
   "source": [
    "mv filea?.{jpg,txt} a"
   ]
  },
  {
   "cell_type": "code",
   "execution_count": 18,
   "metadata": {
    "collapsed": false
   },
   "outputs": [
    {
     "name": "stdout",
     "output_type": "stream",
     "text": [
      "\u001b[0m\u001b[01;34ma\u001b[0m           fileb1.txt  \u001b[01;35mfileb3.jpg\u001b[0m  \u001b[01;31mfilec1.zip\u001b[0m  filec3.txt\n",
      "\u001b[01;31mfilea1.zip\u001b[0m  \u001b[01;31mfileb1.zip\u001b[0m  fileb3.txt  \u001b[01;35mfilec2.jpg\u001b[0m  \u001b[01;31mfilec3.zip\u001b[0m\n",
      "\u001b[01;31mfilea2.zip\u001b[0m  \u001b[01;35mfileb2.jpg\u001b[0m  \u001b[01;31mfileb3.zip\u001b[0m  filec2.txt  important_document_v17.doc\n",
      "\u001b[01;31mfilea3.zip\u001b[0m  fileb2.txt  \u001b[01;35mfilec1.jpg\u001b[0m  \u001b[01;31mfilec2.zip\u001b[0m  important_document_v18.doc\n",
      "\u001b[01;35mfileb1.jpg\u001b[0m  \u001b[01;31mfileb2.zip\u001b[0m  filec1.txt  \u001b[01;35mfilec3.jpg\u001b[0m  important_document_v19.doc\n"
     ]
    },
    {
     "data": {
      "text/plain": [
       "\u001b[0m\u001b[01;34ma\u001b[0m           fileb1.txt  \u001b[01;35mfileb3.jpg\u001b[0m  \u001b[01;31mfilec1.zip\u001b[0m  filec3.txt\r",
       "\u001b[01;31mfilea1.zip\u001b[0m  \u001b[01;31mfileb1.zip\u001b[0m  fileb3.txt  \u001b[01;35mfilec2.jpg\u001b[0m  \u001b[01;31mfilec3.zip\u001b[0m\r",
       "\u001b[01;31mfilea2.zip\u001b[0m  \u001b[01;35mfileb2.jpg\u001b[0m  \u001b[01;31mfileb3.zip\u001b[0m  filec2.txt  important_document_v17.doc\r",
       "\u001b[01;31mfilea3.zip\u001b[0m  fileb2.txt  \u001b[01;35mfilec1.jpg\u001b[0m  \u001b[01;31mfilec2.zip\u001b[0m  important_document_v18.doc\r",
       "\u001b[01;35mfileb1.jpg\u001b[0m  \u001b[01;31mfileb2.zip\u001b[0m  filec1.txt  \u001b[01;35mfilec3.jpg\u001b[0m  important_document_v19.doc"
      ]
     },
     "execution_count": 18,
     "metadata": {},
     "output_type": "execute_result"
    }
   ],
   "source": [
    "ls"
   ]
  },
  {
   "cell_type": "markdown",
   "metadata": {},
   "source": [
    "## Output redirection\n",
    "\n",
    "** > ** -- will overwrite existings files\n",
    "\n",
    "** >> ** -- appends output to the end of file"
   ]
  },
  {
   "cell_type": "code",
   "execution_count": 19,
   "metadata": {
    "collapsed": false
   },
   "outputs": [
    {
     "data": {},
     "execution_count": 19,
     "metadata": {},
     "output_type": "execute_result"
    }
   ],
   "source": [
    "echo \"buy milk\" >> shopping.txt"
   ]
  },
  {
   "cell_type": "code",
   "execution_count": 20,
   "metadata": {
    "collapsed": false
   },
   "outputs": [
    {
     "name": "stdout",
     "output_type": "stream",
     "text": [
      "buy milk\r\n"
     ]
    },
    {
     "data": {
      "text/plain": [
       "buy milk"
      ]
     },
     "execution_count": 20,
     "metadata": {},
     "output_type": "execute_result"
    }
   ],
   "source": [
    "cat shopping.txt"
   ]
  },
  {
   "cell_type": "code",
   "execution_count": 21,
   "metadata": {
    "collapsed": false
   },
   "outputs": [
    {
     "data": {},
     "execution_count": 21,
     "metadata": {},
     "output_type": "execute_result"
    }
   ],
   "source": [
    "ls > listing.txt"
   ]
  },
  {
   "cell_type": "code",
   "execution_count": 22,
   "metadata": {
    "collapsed": false
   },
   "outputs": [
    {
     "name": "stdout",
     "output_type": "stream",
     "text": [
      "a\n",
      "filea1.zip\n",
      "filea2.zip\n",
      "filea3.zip\n",
      "fileb1.jpg\n",
      "fileb1.txt\n",
      "fileb1.zip\n",
      "fileb2.jpg\n",
      "fileb2.txt\n",
      "fileb2.zip\n",
      "fileb3.jpg\n",
      "fileb3.txt\n",
      "fileb3.zip\n",
      "filec1.jpg\n",
      "filec1.txt\n",
      "filec1.zip\n",
      "filec2.jpg\n",
      "filec2.txt\n",
      "filec2.zip\n",
      "filec3.jpg\n",
      "filec3.txt\n",
      "filec3.zip\n",
      "important_document_v17.doc\n",
      "important_document_v18.doc\n",
      "important_document_v19.doc\n",
      "listing.txt\n",
      "shopping.txt\n"
     ]
    },
    {
     "data": {
      "text/plain": [
       "a\r",
       "filea1.zip\r",
       "filea2.zip\r",
       "filea3.zip\r",
       "fileb1.jpg\r",
       "fileb1.txt\r",
       "fileb1.zip\r",
       "fileb2.jpg\r",
       "fileb2.txt\r",
       "fileb2.zip\r",
       "fileb3.jpg\r",
       "fileb3.txt\r",
       "fileb3.zip\r",
       "filec1.jpg\r",
       "filec1.txt\r",
       "filec1.zip\r",
       "filec2.jpg\r",
       "filec2.txt\r",
       "filec2.zip\r",
       "filec3.jpg\r",
       "filec3.txt\r",
       "filec3.zip\r",
       "important_document_v17.doc\r",
       "important_document_v18.doc\r",
       "important_document_v19.doc\r",
       "listing.txt\r",
       "shopping.txt"
      ]
     },
     "execution_count": 22,
     "metadata": {},
     "output_type": "execute_result"
    }
   ],
   "source": [
    "cat listing.txt"
   ]
  },
  {
   "cell_type": "markdown",
   "metadata": {},
   "source": [
    "## Pipes\n",
    "\n",
    "** ls | less ** -- makes the output of ls become the input of less\n",
    "\n",
    "** wc ** -- words count\n",
    "\n",
    "** wc -l ** -- lines count\n",
    "\n",
    "** grep ** -- searching"
   ]
  },
  {
   "cell_type": "markdown",
   "metadata": {},
   "source": [
    "## Command substitution\n",
    "Output will become a part of the command line\n",
    "\n",
    "Put command between $()\n",
    "\n",
    "Older form uses backticks: echo \"you are currently on \\`hostname\\`\""
   ]
  },
  {
   "cell_type": "code",
   "execution_count": 23,
   "metadata": {
    "collapsed": false
   },
   "outputs": [
    {
     "name": "stdout",
     "output_type": "stream",
     "text": [
      "hello, major\r\n"
     ]
    },
    {
     "data": {
      "text/plain": [
       "hello, major"
      ]
     },
     "execution_count": 23,
     "metadata": {},
     "output_type": "execute_result"
    }
   ],
   "source": [
    "echo \"hello, $(whoami)\""
   ]
  },
  {
   "cell_type": "code",
   "execution_count": 26,
   "metadata": {
    "collapsed": false
   },
   "outputs": [
    {
     "data": {},
     "execution_count": 26,
     "metadata": {},
     "output_type": "execute_result"
    }
   ],
   "source": [
    "echo \"Buy milk\" > \"notes$(date).txt\""
   ]
  },
  {
   "cell_type": "code",
   "execution_count": 27,
   "metadata": {
    "collapsed": false
   },
   "outputs": [
    {
     "name": "stdout",
     "output_type": "stream",
     "text": [
      "notes.txt  notesВт. апр. 19 10:33:42 MSK 2016.txt\r\n"
     ]
    },
    {
     "data": {
      "text/plain": [
       "notes.txt  notesВт. апр. 19 10:33:42 MSK 2016.txt"
      ]
     },
     "execution_count": 27,
     "metadata": {},
     "output_type": "execute_result"
    }
   ],
   "source": [
    "ls notes*"
   ]
  },
  {
   "cell_type": "code",
   "execution_count": 29,
   "metadata": {
    "collapsed": false
   },
   "outputs": [
    {
     "name": "stdout",
     "output_type": "stream",
     "text": [
      "you are currently on major\r\n"
     ]
    },
    {
     "data": {
      "text/plain": [
       "you are currently on major"
      ]
     },
     "execution_count": 29,
     "metadata": {},
     "output_type": "execute_result"
    }
   ],
   "source": [
    "echo \"you are currently on `hostname`\""
   ]
  },
  {
   "cell_type": "code",
   "execution_count": null,
   "metadata": {
    "collapsed": true
   },
   "outputs": [],
   "source": []
  }
 ],
 "metadata": {
  "kernelspec": {
   "display_name": "MetaKernel Bash",
   "language": "bash",
   "name": "metakernel_bash"
  },
  "language_info": {
   "file_extension": ".sh",
   "help_links": [
    {
     "text": "MetaKernel Magics",
     "url": "https://github.com/calysto/metakernel/blob/master/metakernel/magics/README.md"
    }
   ],
   "mimetype": "text/x-bash",
   "name": "bash"
  }
 },
 "nbformat": 4,
 "nbformat_minor": 0
}
