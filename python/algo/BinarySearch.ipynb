{
 "cells": [
  {
   "cell_type": "markdown",
   "metadata": {},
   "source": [
    "Сравним производительность стандартного оператора вхождения в python и бинарного поиска."
   ]
  },
  {
   "cell_type": "code",
   "execution_count": 14,
   "metadata": {
    "collapsed": false
   },
   "outputs": [
    {
     "name": "stdout",
     "output_type": "stream",
     "text": [
      "1024 0.00286102294921875\n",
      "2048 0.0026226043701171875\n",
      "4096 0.0007152557373046875\n",
      "8192 0.0007152557373046875\n",
      "16384 0.000476837158203125\n",
      "32768 0.000476837158203125\n",
      "65536 0.000476837158203125\n",
      "131072 0.0007152557373046875\n",
      "262144 0.000476837158203125\n",
      "524288 0.000476837158203125\n",
      "1048576 0.000476837158203125\n",
      "2097152 0.000476837158203125\n",
      "4194304 0.0007152557373046875\n",
      "8388608 0.000476837158203125\n",
      "16777216 0.000476837158203125\n",
      "33554432 0.0007152557373046875\n"
     ]
    }
   ],
   "source": [
    "from time import time \n",
    "\n",
    "def contains(seq, target):\n",
    "    return target in seq\n",
    "\n",
    "def perfomance_check_contains():\n",
    "    n = 1024\n",
    "    while n < 50000000:\n",
    "        seq = range(n)\n",
    "        start = time()\n",
    "        contains(seq, -1)\n",
    "        done = time()\n",
    "        print(n, (done-start)*1000)\n",
    "        n *= 2\n",
    "perfomance_check_contains()"
   ]
  },
  {
   "cell_type": "markdown",
   "metadata": {},
   "source": [
    "На третьем питоне не интересно, потому что он использует супер-крутые алгоритмы."
   ]
  },
  {
   "cell_type": "code",
   "execution_count": 21,
   "metadata": {
    "collapsed": true
   },
   "outputs": [],
   "source": [
    "def contains_bs(seq, target):\n",
    "    low = 0\n",
    "    high = len(seq)-1\n",
    "    while low <= high:\n",
    "        mid = int((low+high)/2)\n",
    "        if seq[mid] == target:\n",
    "            return True\n",
    "        elif seq[mid] > target:\n",
    "            high = mid-1\n",
    "        elif seq[mid]<target:\n",
    "            low = mid+1\n",
    "    return False"
   ]
  },
  {
   "cell_type": "code",
   "execution_count": 26,
   "metadata": {
    "collapsed": false
   },
   "outputs": [
    {
     "name": "stdout",
     "output_type": "stream",
     "text": [
      "Binary search custom\n",
      "\n",
      "1024 0.019073486328125\n",
      "2048 0.08702278137207031\n",
      "4096 0.015497207641601562\n",
      "8192 0.01621246337890625\n",
      "16384 0.0171661376953125\n",
      "32768 0.01811981201171875\n",
      "65536 0.019311904907226562\n",
      "131072 0.020265579223632812\n",
      "262144 0.021457672119140625\n",
      "524288 0.022411346435546875\n",
      "1048576 0.02384185791015625\n",
      "2097152 0.4630088806152344\n",
      "4194304 0.027418136596679688\n",
      "8388608 0.027418136596679688\n",
      "16777216 0.028133392333984375\n",
      "33554432 0.029325485229492188\n",
      "\n",
      "\n",
      "'In' operator\n",
      "1024 0.0019073486328125\n",
      "2048 0.000476837158203125\n",
      "4096 0.000476837158203125\n",
      "8192 0.000476837158203125\n",
      "16384 0.000476837158203125\n",
      "32768 0.000476837158203125\n",
      "65536 0.000476837158203125\n",
      "131072 0.000476837158203125\n",
      "262144 0.000476837158203125\n",
      "524288 0.000476837158203125\n",
      "1048576 0.000476837158203125\n",
      "2097152 0.000476837158203125\n",
      "4194304 0.000476837158203125\n",
      "8388608 0.000476837158203125\n",
      "16777216 0.000476837158203125\n",
      "33554432 0.000476837158203125\n"
     ]
    }
   ],
   "source": [
    "def perfomance_check_bs():\n",
    "    n = 1024\n",
    "    while n < 50000000:\n",
    "        seq = range(n)\n",
    "        start = time()\n",
    "        contains_bs(seq, n+1)\n",
    "        done = time()\n",
    "        print(n, (done-start)*1000)\n",
    "        n *= 2\n",
    "print(\"Binary search custom\\n\")\n",
    "perfomance_check_bs()\n",
    "print(\"\\n\\n'In' operator\")\n",
    "perfomance_check_contains()"
   ]
  },
  {
   "cell_type": "code",
   "execution_count": null,
   "metadata": {
    "collapsed": true
   },
   "outputs": [],
   "source": []
  }
 ],
 "metadata": {
  "kernelspec": {
   "display_name": "Python 3",
   "language": "python",
   "name": "python3"
  },
  "language_info": {
   "codemirror_mode": {
    "name": "ipython",
    "version": 3
   },
   "file_extension": ".py",
   "mimetype": "text/x-python",
   "name": "python",
   "nbconvert_exporter": "python",
   "pygments_lexer": "ipython3",
   "version": "3.5.1+"
  }
 },
 "nbformat": 4,
 "nbformat_minor": 0
}
