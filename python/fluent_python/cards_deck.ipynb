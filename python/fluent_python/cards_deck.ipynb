{
 "cells": [
  {
   "cell_type": "code",
   "execution_count": 13,
   "metadata": {
    "collapsed": false
   },
   "outputs": [],
   "source": [
    "import collections \n",
    "\n",
    "Card = collections.namedtuple('Card', ['suite', 'rank'])\n",
    "\n",
    "class FrenchDeck(object):\n",
    "    ranks = [n for n in range(2,11)] + list('JQKA')\n",
    "    suits = \"spades hearts diamonds clubs\".split()\n",
    "    \n",
    "    def __init__(self):\n",
    "        self._cards = [Card(suite, rank) for suite in self.suits for rank in self.ranks]\n",
    "        \n",
    "    def __len__(self):\n",
    "        return len(self._cards)\n",
    "    \n",
    "    def __getitem__(self, index):\n",
    "        return self._cards[index]\n",
    "    \n",
    "    "
   ]
  },
  {
   "cell_type": "code",
   "execution_count": 14,
   "metadata": {
    "collapsed": false
   },
   "outputs": [
    {
     "data": {
      "text/plain": [
       "52"
      ]
     },
     "execution_count": 14,
     "metadata": {},
     "output_type": "execute_result"
    }
   ],
   "source": [
    "deck = FrenchDeck()\n",
    "len(deck)"
   ]
  },
  {
   "cell_type": "code",
   "execution_count": 15,
   "metadata": {
    "collapsed": false
   },
   "outputs": [
    {
     "data": {
      "text/plain": [
       "Card(suite='spades', rank=2)"
      ]
     },
     "execution_count": 15,
     "metadata": {},
     "output_type": "execute_result"
    }
   ],
   "source": [
    "deck[0]"
   ]
  },
  {
   "cell_type": "code",
   "execution_count": 16,
   "metadata": {
    "collapsed": false
   },
   "outputs": [
    {
     "data": {
      "text/plain": [
       "Card(suite='clubs', rank='A')"
      ]
     },
     "execution_count": 16,
     "metadata": {},
     "output_type": "execute_result"
    }
   ],
   "source": [
    "deck[51]"
   ]
  },
  {
   "cell_type": "code",
   "execution_count": 17,
   "metadata": {
    "collapsed": false
   },
   "outputs": [
    {
     "data": {
      "text/plain": [
       "Card(suite='diamonds', rank=7)"
      ]
     },
     "execution_count": 17,
     "metadata": {},
     "output_type": "execute_result"
    }
   ],
   "source": [
    "from random import choice\n",
    "choice(deck)"
   ]
  },
  {
   "cell_type": "code",
   "execution_count": 18,
   "metadata": {
    "collapsed": false
   },
   "outputs": [
    {
     "data": {
      "text/plain": [
       "Card(suite='hearts', rank=8)"
      ]
     },
     "execution_count": 18,
     "metadata": {},
     "output_type": "execute_result"
    }
   ],
   "source": [
    "choice(deck)"
   ]
  },
  {
   "cell_type": "code",
   "execution_count": 19,
   "metadata": {
    "collapsed": false
   },
   "outputs": [
    {
     "data": {
      "text/plain": [
       "[Card(suite='spades', rank='A'),\n",
       " Card(suite='hearts', rank='A'),\n",
       " Card(suite='diamonds', rank='A'),\n",
       " Card(suite='clubs', rank='A')]"
      ]
     },
     "execution_count": 19,
     "metadata": {},
     "output_type": "execute_result"
    }
   ],
   "source": [
    "deck[12::13]"
   ]
  },
  {
   "cell_type": "code",
   "execution_count": 20,
   "metadata": {
    "collapsed": false
   },
   "outputs": [
    {
     "name": "stdout",
     "output_type": "stream",
     "text": [
      "Card(suite='spades', rank=2)\n",
      "Card(suite='spades', rank=3)\n",
      "Card(suite='spades', rank=4)\n",
      "Card(suite='spades', rank=5)\n",
      "Card(suite='spades', rank=6)\n",
      "Card(suite='spades', rank=7)\n",
      "Card(suite='spades', rank=8)\n",
      "Card(suite='spades', rank=9)\n",
      "Card(suite='spades', rank=10)\n",
      "Card(suite='spades', rank='J')\n",
      "Card(suite='spades', rank='Q')\n",
      "Card(suite='spades', rank='K')\n",
      "Card(suite='spades', rank='A')\n",
      "Card(suite='hearts', rank=2)\n",
      "Card(suite='hearts', rank=3)\n",
      "Card(suite='hearts', rank=4)\n",
      "Card(suite='hearts', rank=5)\n",
      "Card(suite='hearts', rank=6)\n",
      "Card(suite='hearts', rank=7)\n",
      "Card(suite='hearts', rank=8)\n",
      "Card(suite='hearts', rank=9)\n",
      "Card(suite='hearts', rank=10)\n",
      "Card(suite='hearts', rank='J')\n",
      "Card(suite='hearts', rank='Q')\n",
      "Card(suite='hearts', rank='K')\n",
      "Card(suite='hearts', rank='A')\n",
      "Card(suite='diamonds', rank=2)\n",
      "Card(suite='diamonds', rank=3)\n",
      "Card(suite='diamonds', rank=4)\n",
      "Card(suite='diamonds', rank=5)\n",
      "Card(suite='diamonds', rank=6)\n",
      "Card(suite='diamonds', rank=7)\n",
      "Card(suite='diamonds', rank=8)\n",
      "Card(suite='diamonds', rank=9)\n",
      "Card(suite='diamonds', rank=10)\n",
      "Card(suite='diamonds', rank='J')\n",
      "Card(suite='diamonds', rank='Q')\n",
      "Card(suite='diamonds', rank='K')\n",
      "Card(suite='diamonds', rank='A')\n",
      "Card(suite='clubs', rank=2)\n",
      "Card(suite='clubs', rank=3)\n",
      "Card(suite='clubs', rank=4)\n",
      "Card(suite='clubs', rank=5)\n",
      "Card(suite='clubs', rank=6)\n",
      "Card(suite='clubs', rank=7)\n",
      "Card(suite='clubs', rank=8)\n",
      "Card(suite='clubs', rank=9)\n",
      "Card(suite='clubs', rank=10)\n",
      "Card(suite='clubs', rank='J')\n",
      "Card(suite='clubs', rank='Q')\n",
      "Card(suite='clubs', rank='K')\n",
      "Card(suite='clubs', rank='A')\n"
     ]
    }
   ],
   "source": [
    "for card in deck:\n",
    "    print card"
   ]
  },
  {
   "cell_type": "code",
   "execution_count": null,
   "metadata": {
    "collapsed": true
   },
   "outputs": [],
   "source": []
  }
 ],
 "metadata": {
  "kernelspec": {
   "display_name": "Python 3",
   "language": "python",
   "name": "python3"
  },
  "language_info": {
   "codemirror_mode": {
    "name": "ipython",
    "version": 3
   },
   "file_extension": ".py",
   "mimetype": "text/x-python",
   "name": "python",
   "nbconvert_exporter": "python",
   "pygments_lexer": "ipython3",
   "version": "3.5.1+"
  }
 },
 "nbformat": 4,
 "nbformat_minor": 0
}
