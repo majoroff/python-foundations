{
 "cells": [
  {
   "cell_type": "code",
   "execution_count": 3,
   "metadata": {
    "collapsed": false
   },
   "outputs": [
    {
     "name": "stdout",
     "output_type": "stream",
     "text": [
      " 9 boys  averaging 40.42kg\n",
      " 9 boys  averaging 1.39m\n",
      "10 girls averaging 42.04kg\n",
      "10 girls averaging 1.43m\n"
     ]
    }
   ],
   "source": [
    "\"\"\"\n",
    "A coroutine to compute a running average.\n",
    "Testing ``averager`` by itself::\n",
    "    >>> coro_avg = averager()\n",
    "    >>> next(coro_avg)\n",
    "    >>> coro_avg.send(10)\n",
    "    >>> coro_avg.send(30)\n",
    "    >>> coro_avg.send(6.5)\n",
    "    >>> coro_avg.send(None)\n",
    "    Traceback (most recent call last):\n",
    "       ...\n",
    "    StopIteration: Result(count=3, average=15.5)\n",
    "Driving it with ``yield from``::\n",
    "    >>> def summarize(results):\n",
    "    ...     while True:\n",
    "    ...         result = yield from averager()\n",
    "    ...         results.append(result)\n",
    "    ...\n",
    "    >>> results = []\n",
    "    >>> summary = summarize(results)\n",
    "    >>> next(summary)\n",
    "    >>> for height in data['girls;m']:\n",
    "    ...     summary.send(height)\n",
    "    ...\n",
    "    >>> summary.send(None)\n",
    "    >>> for height in data['boys;m']:\n",
    "    ...     summary.send(height)\n",
    "    ...\n",
    "    >>> summary.send(None)\n",
    "    >>> results == [\n",
    "    ...     Result(count=10, average=1.4279999999999997),\n",
    "    ...     Result(count=9, average=1.3888888888888888)\n",
    "    ... ]\n",
    "    True\n",
    "\"\"\"\n",
    "\n",
    "# BEGIN YIELD_FROM_AVERAGER\n",
    "from collections import namedtuple\n",
    "\n",
    "Result = namedtuple('Result', 'count average')\n",
    "data = {\n",
    "    'girls;kg':\n",
    "        [40.9, 38.5, 44.3, 42.2, 45.2, 41.7, 44.5, 38.0, 40.6, 44.5],\n",
    "    'girls;m':\n",
    "        [1.6, 1.51, 1.4, 1.3, 1.41, 1.39, 1.33, 1.46, 1.45, 1.43],\n",
    "    'boys;kg':\n",
    "        [39.0, 40.8, 43.2, 40.8, 43.1, 38.6, 41.4, 40.6, 36.3],\n",
    "    'boys;m':\n",
    "        [1.38, 1.5, 1.32, 1.25, 1.37, 1.48, 1.25, 1.49, 1.46],\n",
    "}\n",
    "\n",
    "# the subgenerator\n",
    "def averager():  # <1>\n",
    "    total = 0.0\n",
    "    count = 0\n",
    "    average = None\n",
    "    while True:\n",
    "        term = yield  # <2>\n",
    "        if term is None:  # <3>\n",
    "            break\n",
    "        total += term\n",
    "        count += 1\n",
    "        average = total/count\n",
    "    return Result(count, average)  # <4>\n",
    "\n",
    "\n",
    "# the delegating generator\n",
    "def grouper(results, key):  # <5>\n",
    "    while True:  # <6>\n",
    "        results[key] = yield from averager()  # <7>\n",
    "\n",
    "# output report\n",
    "def report(results):\n",
    "    for key, result in sorted(results.items()):\n",
    "        group, unit = key.split(';')\n",
    "        print('{:2} {:5} averaging {:.2f}{}'.format(\n",
    "              result.count, group, result.average, unit))\n",
    "\n",
    "\n",
    "# the client code, a.k.a. the caller\n",
    "def main(data):  # <8>\n",
    "    results = {}\n",
    "    for key, values in data.items():\n",
    "        group = grouper(results, key)  # <9>\n",
    "        next(group)  # <10>\n",
    "        for value in values:\n",
    "            group.send(value)  # <11>\n",
    "        group.send(None)  # important! <12>\n",
    "\n",
    "    # print(results)  # uncomment to debug\n",
    "    report(results)\n",
    "\n",
    "main(data)\n",
    "\n"
   ]
  },
  {
   "cell_type": "code",
   "execution_count": null,
   "metadata": {
    "collapsed": true
   },
   "outputs": [],
   "source": []
  }
 ],
 "metadata": {
  "kernelspec": {
   "display_name": "Python 3",
   "language": "python",
   "name": "python3"
  },
  "language_info": {
   "codemirror_mode": {
    "name": "ipython",
    "version": 3
   },
   "file_extension": ".py",
   "mimetype": "text/x-python",
   "name": "python",
   "nbconvert_exporter": "python",
   "pygments_lexer": "ipython3",
   "version": "3.5.1+"
  }
 },
 "nbformat": 4,
 "nbformat_minor": 0
}
