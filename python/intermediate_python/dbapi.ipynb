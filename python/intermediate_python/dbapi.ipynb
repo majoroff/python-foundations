{
 "cells": [
  {
   "cell_type": "code",
   "execution_count": 49,
   "metadata": {
    "collapsed": true
   },
   "outputs": [],
   "source": [
    "import sqlite3"
   ]
  },
  {
   "cell_type": "code",
   "execution_count": 58,
   "metadata": {
    "collapsed": true
   },
   "outputs": [],
   "source": [
    "conn = sqlite3.connect(\"mydb.sql3\") # creates if file doesn't exists"
   ]
  },
  {
   "cell_type": "code",
   "execution_count": 59,
   "metadata": {
    "collapsed": false
   },
   "outputs": [
    {
     "data": {
      "text/plain": [
       "<sqlite3.Connection at 0x7ff9802e23d0>"
      ]
     },
     "execution_count": 59,
     "metadata": {},
     "output_type": "execute_result"
    }
   ],
   "source": [
    "conn # database connection object"
   ]
  },
  {
   "cell_type": "code",
   "execution_count": 60,
   "metadata": {
    "collapsed": true
   },
   "outputs": [],
   "source": [
    "curs = conn.cursor() "
   ]
  },
  {
   "cell_type": "code",
   "execution_count": 61,
   "metadata": {
    "collapsed": false
   },
   "outputs": [
    {
     "data": {
      "text/plain": [
       "<sqlite3.Cursor at 0x7ff9802c5f80>"
      ]
     },
     "execution_count": 61,
     "metadata": {},
     "output_type": "execute_result"
    }
   ],
   "source": [
    "curs # objects that used to access to the database"
   ]
  },
  {
   "cell_type": "code",
   "execution_count": 62,
   "metadata": {
    "collapsed": false
   },
   "outputs": [
    {
     "ename": "OperationalError",
     "evalue": "database is locked",
     "output_type": "error",
     "traceback": [
      "\u001b[1;31m---------------------------------------------------------------------------\u001b[0m",
      "\u001b[1;31mOperationalError\u001b[0m                          Traceback (most recent call last)",
      "\u001b[1;32m<ipython-input-62-32e7a2352c19>\u001b[0m in \u001b[0;36m<module>\u001b[1;34m()\u001b[0m\n\u001b[1;32m----> 1\u001b[1;33m \u001b[0mcurs\u001b[0m\u001b[1;33m.\u001b[0m\u001b[0mexecute\u001b[0m\u001b[1;33m(\u001b[0m\u001b[1;34m\"DROP TABLE IF EXISTS publisher\"\u001b[0m\u001b[1;33m)\u001b[0m\u001b[1;33m\u001b[0m\u001b[0m\n\u001b[0m",
      "\u001b[1;31mOperationalError\u001b[0m: database is locked"
     ]
    }
   ],
   "source": [
    "curs.execute(\"DROP TABLE IF EXISTS publisher\")"
   ]
  },
  {
   "cell_type": "code",
   "execution_count": null,
   "metadata": {
    "collapsed": false
   },
   "outputs": [],
   "source": [
    "curs.execute(\"CREATE TABLE publisher(\\\n",
    "pubid INT PRIMARY KEY, \\\n",
    "pubname VARCHAR(25),\\\n",
    "puburl VARCHAR(125))\")"
   ]
  },
  {
   "cell_type": "code",
   "execution_count": null,
   "metadata": {
    "collapsed": false
   },
   "outputs": [],
   "source": [
    "# the same, to cause the error \"Operational error\"\n",
    "curs.execute(\"CREATE TABLE publisher(\\\n",
    "pubid INT PRIMARY KEY, \\\n",
    "pubname VARCHAR(25),\\\n",
    "puburl VARCHAR(125))\")"
   ]
  },
  {
   "cell_type": "code",
   "execution_count": null,
   "metadata": {
    "collapsed": false
   },
   "outputs": [],
   "source": [
    "curs.execute(\"DROP TABLE IF EXISTS book\")\n",
    "curs.execute(\"\"\"\n",
    "            CREATE TABLE book(\n",
    "                bkisbn CHAR(10) PRIMARY KEY,\n",
    "                bktitle VARCHAR(60),\n",
    "                bkyear INT,\n",
    "                bkpubid INT,\n",
    "                FOREIGN KEY(bkpubid) REFERENCES publisher(pubid)\n",
    "            )\n",
    "\"\"\")"
   ]
  },
  {
   "cell_type": "code",
   "execution_count": null,
   "metadata": {
    "collapsed": true
   },
   "outputs": [],
   "source": [
    "publisher_list = (\n",
    "                  (\"Holden Web\", \"http://holdenweb.com\"),               #0\n",
    "                  (\"Apress\", \"http://www.apress.com\"),                  #1\n",
    "                  (\"O'Reilly Media\", \"http://oreilly.com\"),             #2\n",
    "                  (\"Packt Publishing\", \"http://www.packtpub.com\")       #3\n",
    "                  )"
   ]
  },
  {
   "cell_type": "code",
   "execution_count": null,
   "metadata": {
    "collapsed": true
   },
   "outputs": [],
   "source": [
    "book_dict = {\n",
    "             \"1565926218\": (\"Python Programming on Win32\", 1999, 2),    # O'Reilly\n",
    "             \"1590597257\": (\"The Definitive Guide to Django\", 2011, 1), # Apress\n",
    "             \"1234567890\": (\"No Book You Ever Heard Of\", 2015, 0),      # Holden Web\n",
    "             \"0569007973\": (\"The Python Cookbook, 2nd Edn.\", 2009, 2),  # O'Reilly\n",
    "             \"7818471947\": (\"Expert Python Programming\", 2012, 3)       # Packt\n",
    "             }"
   ]
  },
  {
   "cell_type": "code",
   "execution_count": 55,
   "metadata": {
    "collapsed": false
   },
   "outputs": [
    {
     "name": "stdout",
     "output_type": "stream",
     "text": [
      "ISBN:           1234567890\n",
      "Title:          No Book You Ever Heard Of\n",
      "Year:           2015\n",
      "Publisher:      Holden Web\n",
      "URL:            http://holdenweb.com\n"
     ]
    }
   ],
   "source": [
    "ISBN = \"1234567890\" \n",
    "book = book_dict[ISBN]\n",
    "publisher = publisher_list[book[2]]\n",
    "print \"\"\"\\\n",
    "ISBN:           {}\n",
    "Title:          {}\n",
    "Year:           {}\n",
    "Publisher:      {}\n",
    "URL:            {}\"\"\".format(ISBN, book[0], book[1], publisher[0], publisher[1])"
   ]
  },
  {
   "cell_type": "code",
   "execution_count": 56,
   "metadata": {
    "collapsed": false
   },
   "outputs": [
    {
     "name": "stderr",
     "output_type": "stream",
     "text": [
      "ERROR: An unexpected error occurred while tokenizing input\n",
      "The following traceback may be corrupted or invalid\n",
      "The error message is: ('EOF in multi-line string', (1, 4))\n",
      "\n"
     ]
    },
    {
     "ename": "OperationalError",
     "evalue": "database is locked",
     "output_type": "error",
     "traceback": [
      "\u001b[1;31m---------------------------------------------------------------------------\u001b[0m",
      "\u001b[1;31mOperationalError\u001b[0m                          Traceback (most recent call last)",
      "\u001b[1;32m<ipython-input-56-bf37efe75f93>\u001b[0m in \u001b[0;36m<module>\u001b[1;34m()\u001b[0m\n\u001b[0;32m      3\u001b[0m         \u001b[0mINSERT\u001b[0m \u001b[0mINTO\u001b[0m \u001b[0mpublisher\u001b[0m\u001b[1;33m(\u001b[0m\u001b[0mpubid\u001b[0m\u001b[1;33m,\u001b[0m \u001b[0mpubname\u001b[0m\u001b[1;33m,\u001b[0m \u001b[0mpuburl\u001b[0m\u001b[1;33m)\u001b[0m\u001b[1;33m\u001b[0m\u001b[0m\n\u001b[0;32m      4\u001b[0m         \u001b[0mVALUES\u001b[0m\u001b[1;33m(\u001b[0m\u001b[0;31m?\u001b[0m\u001b[1;33m,\u001b[0m\u001b[0;31m \u001b[0m\u001b[0;31m?\u001b[0m\u001b[1;33m,\u001b[0m\u001b[0;31m \u001b[0m\u001b[0;31m?\u001b[0m\u001b[1;33m)\u001b[0m\u001b[1;33m\u001b[0m\u001b[0m\n\u001b[1;32m----> 5\u001b[1;33m     \"\"\", (i, publisher[0], publisher[1]))\n\u001b[0m",
      "\u001b[1;31mOperationalError\u001b[0m: database is locked"
     ]
    }
   ],
   "source": [
    "for i, publisher in enumerate(publisher_list):\n",
    "    curs.execute(\"\"\"\n",
    "        INSERT INTO publisher(pubid, pubname, puburl)\n",
    "        VALUES(?, ?, ?)\n",
    "    \"\"\", (i, publisher[0], publisher[1]))"
   ]
  },
  {
   "cell_type": "code",
   "execution_count": null,
   "metadata": {
    "collapsed": false
   },
   "outputs": [],
   "source": [
    "curs.execute(\"SELECT * FROM publisher\")\n",
    "curs.fetchall()"
   ]
  },
  {
   "cell_type": "code",
   "execution_count": 57,
   "metadata": {
    "collapsed": false
   },
   "outputs": [
    {
     "ename": "OperationalError",
     "evalue": "database is locked",
     "output_type": "error",
     "traceback": [
      "\u001b[1;31m---------------------------------------------------------------------------\u001b[0m",
      "\u001b[1;31mOperationalError\u001b[0m                          Traceback (most recent call last)",
      "\u001b[1;32m<ipython-input-57-19498fae552b>\u001b[0m in \u001b[0;36m<module>\u001b[1;34m()\u001b[0m\n\u001b[0;32m      3\u001b[0m                     \u001b[1;33m(\u001b[0m\u001b[0mbkisbn\u001b[0m\u001b[1;33m,\u001b[0m \u001b[0mbktitle\u001b[0m\u001b[1;33m,\u001b[0m \u001b[0mbkyear\u001b[0m\u001b[1;33m,\u001b[0m \u001b[0mbkpubid\u001b[0m\u001b[1;33m)\u001b[0m\u001b[1;33m\u001b[0m\u001b[0m\n\u001b[0;32m      4\u001b[0m                     VALUES (?, ?, ?, ?)\"\"\",\n\u001b[1;32m----> 5\u001b[1;33m                     (ISBN, title, year, pubid))\n\u001b[0m",
      "\u001b[1;31mOperationalError\u001b[0m: database is locked"
     ]
    }
   ],
   "source": [
    "for ISBN, (title, year, pubid) in book_dict.items():\n",
    "    curs.execute(\"\"\"INSERT INTO BOOK\n",
    "                    (bkisbn, bktitle, bkyear, bkpubid)\n",
    "                    VALUES (?, ?, ?, ?)\"\"\",\n",
    "                    (ISBN, title, year, pubid))"
   ]
  },
  {
   "cell_type": "code",
   "execution_count": null,
   "metadata": {
    "collapsed": false
   },
   "outputs": [],
   "source": [
    "curs.execute(\"SELECT * FROM book\")\n",
    "curs.fetchall()"
   ]
  },
  {
   "cell_type": "code",
   "execution_count": null,
   "metadata": {
    "collapsed": false
   },
   "outputs": [],
   "source": [
    "curs.execute(\"\"\" \n",
    "    SELECT * FROM book\n",
    "    JOIN publisher ON pubid=bkpubid\n",
    "\"\"\")\n",
    "curs.fetchall()"
   ]
  },
  {
   "cell_type": "code",
   "execution_count": null,
   "metadata": {
    "collapsed": false
   },
   "outputs": [],
   "source": [
    "curs.execute(\"\"\"\n",
    "        SELECT bktitle, bkyear, pubname FROM book\n",
    "        JOIN publisher ON pubid=bkpubid\n",
    "        \n",
    "\"\"\")\n",
    "curs.fetchall()"
   ]
  },
  {
   "cell_type": "code",
   "execution_count": null,
   "metadata": {
    "collapsed": true
   },
   "outputs": [],
   "source": [
    "conn.commit()"
   ]
  },
  {
   "cell_type": "code",
   "execution_count": null,
   "metadata": {
    "collapsed": true
   },
   "outputs": [],
   "source": [
    "conn.close()"
   ]
  },
  {
   "cell_type": "code",
   "execution_count": null,
   "metadata": {
    "collapsed": false
   },
   "outputs": [],
   "source": [
    "conn = sqlite3.connect(\"mydb.sql3\")\n",
    "conn"
   ]
  },
  {
   "cell_type": "code",
   "execution_count": null,
   "metadata": {
    "collapsed": true
   },
   "outputs": [],
   "source": [
    "curs = conn.cursor()"
   ]
  },
  {
   "cell_type": "code",
   "execution_count": null,
   "metadata": {
    "collapsed": false
   },
   "outputs": [],
   "source": [
    "curs.execute(\"SELECT * FROM publisher\")\n",
    "curs.fetchall()"
   ]
  },
  {
   "cell_type": "code",
   "execution_count": null,
   "metadata": {
    "collapsed": true
   },
   "outputs": [],
   "source": []
  },
  {
   "cell_type": "code",
   "execution_count": null,
   "metadata": {
    "collapsed": true
   },
   "outputs": [],
   "source": []
  },
  {
   "cell_type": "code",
   "execution_count": null,
   "metadata": {
    "collapsed": true
   },
   "outputs": [],
   "source": []
  },
  {
   "cell_type": "code",
   "execution_count": null,
   "metadata": {
    "collapsed": true
   },
   "outputs": [],
   "source": []
  },
  {
   "cell_type": "code",
   "execution_count": null,
   "metadata": {
    "collapsed": true
   },
   "outputs": [],
   "source": []
  }
 ],
 "metadata": {
  "kernelspec": {
   "display_name": "Python 2",
   "language": "python",
   "name": "python2"
  },
  "language_info": {
   "codemirror_mode": {
    "name": "ipython",
    "version": 2
   },
   "file_extension": ".py",
   "mimetype": "text/x-python",
   "name": "python",
   "nbconvert_exporter": "python",
   "pygments_lexer": "ipython2",
   "version": "2.7.11+"
  }
 },
 "nbformat": 4,
 "nbformat_minor": 0
}
