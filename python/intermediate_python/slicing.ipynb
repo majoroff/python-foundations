{
 "cells": [
  {
   "cell_type": "code",
   "execution_count": 1,
   "metadata": {
    "collapsed": false
   },
   "outputs": [
    {
     "data": {
      "text/plain": [
       "('0123456789', [1, 2, 3, 4], ('one', 'two', 'three'))"
      ]
     },
     "execution_count": 1,
     "metadata": {},
     "output_type": "execute_result"
    }
   ],
   "source": [
    "s, t, lst = \"0123456789\"[:], (\"one\", \"two\", \"three\")[:], [1, 2, 3, 4][:]\n",
    "s, lst, t"
   ]
  },
  {
   "cell_type": "code",
   "execution_count": 3,
   "metadata": {
    "collapsed": false
   },
   "outputs": [
    {
     "data": {
      "text/plain": [
       "(True, True, True)"
      ]
     },
     "execution_count": 3,
     "metadata": {},
     "output_type": "execute_result"
    }
   ],
   "source": [
    "id(s) == id(s[:]), id(t) == id(t[:]), id(lst) == id(lst[:])"
   ]
  },
  {
   "cell_type": "code",
   "execution_count": 6,
   "metadata": {
    "collapsed": false
   },
   "outputs": [
    {
     "name": "stdout",
     "output_type": "stream",
     "text": [
      "slice(0, 9223372036854775807, None)\n"
     ]
    },
    {
     "data": {
      "text/plain": [
       "42"
      ]
     },
     "execution_count": 6,
     "metadata": {},
     "output_type": "execute_result"
    }
   ],
   "source": [
    "class slicable:\n",
    "    def __getitem__(self, index):\n",
    "        print index\n",
    "        return 42\n",
    "    \n",
    "sli_1 = slicable()\n",
    "sli_1[:] # slice(None, None, None) in python 3"
   ]
  },
  {
   "cell_type": "code",
   "execution_count": 8,
   "metadata": {
    "collapsed": false
   },
   "outputs": [
    {
     "name": "stdout",
     "output_type": "stream",
     "text": [
      "0 0123456789 ||  | 0123456789\n",
      "1 0123456789 || 0 | 123456789\n",
      "2 0123456789 || 01 | 23456789\n",
      "3 0123456789 || 012 | 3456789\n",
      "4 0123456789 || 0123 | 456789\n",
      "5 0123456789 || 01234 | 56789\n",
      "6 0123456789 || 012345 | 6789\n",
      "7 0123456789 || 0123456 | 789\n",
      "8 0123456789 || 01234567 | 89\n",
      "9 0123456789 || 012345678 | 9\n",
      "0 ('one', 'two', 'three') || () | ('one', 'two', 'three')\n",
      "1 ('one', 'two', 'three') || ('one',) | ('two', 'three')\n",
      "2 ('one', 'two', 'three') || ('one', 'two') | ('three',)\n",
      "0 [1, 2, 3, 4] || [] | [1, 2, 3, 4]\n",
      "1 [1, 2, 3, 4] || [1] | [2, 3, 4]\n",
      "2 [1, 2, 3, 4] || [1, 2] | [3, 4]\n",
      "3 [1, 2, 3, 4] || [1, 2, 3] | [4]\n"
     ]
    }
   ],
   "source": [
    "for sequence in s, t, lst:\n",
    "    for n in range(len(sequence)):\n",
    "        print n, sequence, \"||\", sequence[:n], \"|\", sequence[n:]"
   ]
  },
  {
   "cell_type": "code",
   "execution_count": 9,
   "metadata": {
    "collapsed": false
   },
   "outputs": [
    {
     "name": "stdout",
     "output_type": "stream",
     "text": [
      "0123456789\n",
      "1 : 9 9\n",
      "2 : 8 8\n",
      "3 : 7 7\n",
      "4 : 6 6\n",
      "5 : 5 5\n",
      "6 : 4 4\n",
      "7 : 3 3\n",
      "8 : 2 2\n",
      "9 : 1 1\n"
     ]
    }
   ],
   "source": [
    "print s\n",
    "for i in range(1, len(s)):\n",
    "    print i, \":\", s[-i], s[len(s)-i]"
   ]
  },
  {
   "cell_type": "code",
   "execution_count": 10,
   "metadata": {
    "collapsed": false
   },
   "outputs": [
    {
     "data": {
      "text/plain": [
       "'0'"
      ]
     },
     "execution_count": 10,
     "metadata": {},
     "output_type": "execute_result"
    }
   ],
   "source": [
    "s[-len(s)]"
   ]
  },
  {
   "cell_type": "code",
   "execution_count": 11,
   "metadata": {
    "collapsed": false
   },
   "outputs": [
    {
     "data": {
      "text/plain": [
       "'5'"
      ]
     },
     "execution_count": 11,
     "metadata": {},
     "output_type": "execute_result"
    }
   ],
   "source": [
    "s[-5]"
   ]
  },
  {
   "cell_type": "code",
   "execution_count": 12,
   "metadata": {
    "collapsed": false
   },
   "outputs": [
    {
     "data": {
      "text/plain": [
       "'5678'"
      ]
     },
     "execution_count": 12,
     "metadata": {},
     "output_type": "execute_result"
    }
   ],
   "source": [
    "s[-5:-1]"
   ]
  },
  {
   "cell_type": "code",
   "execution_count": 14,
   "metadata": {
    "collapsed": false
   },
   "outputs": [
    {
     "data": {
      "text/plain": [
       "''"
      ]
     },
     "execution_count": 14,
     "metadata": {},
     "output_type": "execute_result"
    }
   ],
   "source": [
    "s[-5:-7]"
   ]
  },
  {
   "cell_type": "code",
   "execution_count": 15,
   "metadata": {
    "collapsed": false
   },
   "outputs": [
    {
     "data": {
      "text/plain": [
       "'345678'"
      ]
     },
     "execution_count": 15,
     "metadata": {},
     "output_type": "execute_result"
    }
   ],
   "source": [
    "s[-7:9]"
   ]
  },
  {
   "cell_type": "code",
   "execution_count": 16,
   "metadata": {
    "collapsed": false
   },
   "outputs": [
    {
     "name": "stdout",
     "output_type": "stream",
     "text": [
      "Getitem:  2\n"
     ]
    }
   ],
   "source": [
    "class Indexable:\n",
    "    def __getitem__(self, arg):\n",
    "        print \"Getitem: \", arg\n",
    "        \n",
    "ind = Indexable()\n",
    "ind[2]"
   ]
  },
  {
   "cell_type": "code",
   "execution_count": 17,
   "metadata": {
    "collapsed": false
   },
   "outputs": [
    {
     "name": "stdout",
     "output_type": "stream",
     "text": [
      "Getitem:  slice(2, 4, None)\n"
     ]
    }
   ],
   "source": [
    "ind[2:4]"
   ]
  },
  {
   "cell_type": "code",
   "execution_count": null,
   "metadata": {
    "collapsed": true
   },
   "outputs": [],
   "source": []
  }
 ],
 "metadata": {
  "kernelspec": {
   "display_name": "Python 2",
   "language": "python",
   "name": "python2"
  },
  "language_info": {
   "codemirror_mode": {
    "name": "ipython",
    "version": 2
   },
   "file_extension": ".py",
   "mimetype": "text/x-python",
   "name": "python",
   "nbconvert_exporter": "python",
   "pygments_lexer": "ipython2",
   "version": "2.7.11+"
  }
 },
 "nbformat": 4,
 "nbformat_minor": 0
}
