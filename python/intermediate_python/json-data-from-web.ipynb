{
 "cells": [
  {
   "cell_type": "code",
   "execution_count": 1,
   "metadata": {
    "collapsed": true
   },
   "outputs": [],
   "source": [
    "import json\n",
    "import requests"
   ]
  },
  {
   "cell_type": "code",
   "execution_count": 2,
   "metadata": {
    "collapsed": true
   },
   "outputs": [],
   "source": [
    "response = requests.get(\"http://whitehouse.gov/facts/json/whatsnext/economy\")"
   ]
  },
  {
   "cell_type": "code",
   "execution_count": 3,
   "metadata": {
    "collapsed": false
   },
   "outputs": [
    {
     "data": {
      "text/plain": [
       "True"
      ]
     },
     "execution_count": 3,
     "metadata": {},
     "output_type": "execute_result"
    }
   ],
   "source": [
    "response.ok"
   ]
  },
  {
   "cell_type": "code",
   "execution_count": 4,
   "metadata": {
    "collapsed": false
   },
   "outputs": [
    {
     "name": "stdout",
     "output_type": "stream",
     "text": [
      "X-AH-Environment prod\n",
      "Expires Sun, 11 Mar 1984 12:00:00 GMT\n",
      "X-Drupal-Cache HIT\n",
      "Content-Encoding gzip\n",
      "Strict-Transport-Security max-age=31536000; includeSubDomains; preload\n",
      "Vary Accept-Encoding\n",
      "Content-Length 1951\n",
      "Connection keep-alive\n",
      "ETag \"1461928960-1\"\n",
      "Date Fri, 29 Apr 2016 13:43:12 GMT\n",
      "P3P CP=\"NON DSP COR ADM DEV IVA OTPi OUR LEG\"\n",
      "Content-Type application/json\n"
     ]
    }
   ],
   "source": [
    "for h in response.headers:\n",
    "    print h, response.headers[h]"
   ]
  },
  {
   "cell_type": "code",
   "execution_count": 8,
   "metadata": {
    "collapsed": false
   },
   "outputs": [
    {
     "data": {
      "text/plain": [
       "str"
      ]
     },
     "execution_count": 8,
     "metadata": {},
     "output_type": "execute_result"
    }
   ],
   "source": [
    "type(response.content)"
   ]
  },
  {
   "cell_type": "code",
   "execution_count": 5,
   "metadata": {
    "collapsed": false
   },
   "outputs": [
    {
     "data": {
      "text/plain": [
       "list"
      ]
     },
     "execution_count": 5,
     "metadata": {},
     "output_type": "execute_result"
    }
   ],
   "source": [
    "access_data = json.loads(response.content.decode(\"utf-8\"))\n",
    "type(access_data)"
   ]
  },
  {
   "cell_type": "code",
   "execution_count": 6,
   "metadata": {
    "collapsed": false
   },
   "outputs": [
    {
     "data": {
      "text/plain": [
       "13"
      ]
     },
     "execution_count": 6,
     "metadata": {},
     "output_type": "execute_result"
    }
   ],
   "source": [
    "len(access_data)"
   ]
  },
  {
   "cell_type": "code",
   "execution_count": 7,
   "metadata": {
    "collapsed": false
   },
   "outputs": [
    {
     "data": {
      "text/plain": [
       "{u'body': u'Implement supervision and regulation over previously unregulated financial services providers such as payday lenders, debt collectors, credit bureaus and money transmitting services.',\n",
       " u'category': u'Economy',\n",
       " u'path': u'node/153781',\n",
       " u'type': u\"What's Next\",\n",
       " u'uid': u'141835',\n",
       " u'url': u'http://www.whitehouse.gov/blog/2012/01/04/consumer-financial-protection-bureau-101-why-we-need-consumer-watchdog',\n",
       " u'url_title': u'the Consumer Financial Protection Bureau '}"
      ]
     },
     "execution_count": 7,
     "metadata": {},
     "output_type": "execute_result"
    }
   ],
   "source": [
    "data = access_data[0]\n",
    "data"
   ]
  },
  {
   "cell_type": "code",
   "execution_count": 11,
   "metadata": {
    "collapsed": false
   },
   "outputs": [
    {
     "data": {
      "text/html": [
       "<a href=\"http://www.whitehouse.gov/blog/2012/01/04/consumer-financial-protection-bureau-101-why-we-need-consumer-watchdog\" alt=\"Implement supervision and regulation over previously unregulated financial services providers such as payday lenders, debt collectors, credit bureaus and money transmitting services.\">the Consumer Financial Protection Bureau </a><br />\n",
       "<a href=\"http://www.whitehouse.gov/the-press-office/president-obama-proposes-financial-crisis-responsibility-fee-recoup-every-last-penn\" alt=\"Impose a Financial Crisis Responsibility Fee on the largest financial institutions to compensate taxpayers for the extraordinary support they provided to stabilize the financial sector.\">a Financial Crisis Responsibility Fee</a><br />\n",
       "<a href=\"http://www.whitehouse.gov/photos-and-video/video/2012/05/19/weekly-address-congress-must-move-forward-not-back-wall-street-ref\" alt=\"Make sure Wall Street plays by the same rules as Main Street. Continue implementing Wall Street reform to prevent practices that helped lead to the financial crisis.\">enforcing Wall Street reform</a><br />\n",
       "<a href=\"http://www.whitehouse.gov/photos-and-video/video/2012/01/25/2012-state-union-address-enhanced-version#transcript\" alt=\"Crack down on fraud. Investigate large-scale financial fraud, and make the penalties for fraud count—not something banks and financial firms see as the price of doing business.\">the Financial Crimes Unit</a><br />\n",
       "<a href=\"http://www.whitehouse.gov/blog/2012/05/08/president-obamas-do-list-congress-reward-american-jobs-not-outsourcing\" alt=\"Reward companies that bring jobs back to America with lower taxes and pay for it by eliminating tax incentives for companies that ship jobs overseas.\">supporting U.S. jobs, not outsourcing</a><br />\n",
       "<a href=\"http://www.whitehouse.gov/sites/default/files/docs/trade_and_exports_record.pdf\" alt=\"Open new export markets, stay tough on trade enforcement to protect U.S. companies selling products overseas, and provide U.S. businesses tools they need to export goods.\">increasing exports</a><br />\n",
       "<a href=\"http://www.whitehouse.gov/omb/factsheet/creating-the-clean-energy-of-tomorrow-and-protecting-the-environment\" alt=\"Invest in a domestic clean energy economy powered by sources like wind, solar, and clean coal. Renew successful bipartisan tax incentives that create American jobs and reduce our reliance on foreign oil.\">a clean energy economy</a><br />\n",
       "<a href=\"http://www.whitehouse.gov/blog/2012/01/13/making-it-easier-do-business-america\" alt=\"Streamline government services by consolidating six agencies and several other programs into a single department focused on helping American businesses grow and export.\">boosting American business </a><br />\n",
       "<a href=\"http://www.whitehouse.gov/blog/2012/05/16/numbers-2-million\" alt=\"Jumpstart small business hiring by cutting taxes for businesses that hire new workers or pay higher wages.\">the Small Business Hiring Tax Credit</a><br />\n",
       "<a href=\"http://www.whitehouse.gov/omb/factsheet/supporting-small-businesses-and-creating-jobs#taxes\" alt=\"Permanently eliminate capital gains taxes on certain small business stock held for more than five years to encourage investment that provides crucial funding for small businesses.\">eliminating capital gains</a><br />\n",
       "<a href=\"http://www.whitehouse.gov/omb/factsheet/supporting-small-businesses-and-creating-jobs#taxes\" alt=\"Renew tax breaks that allow companies to immediately write off the total cost of certain purchases like computers and machines to encourage investment.\">100 percent expensing</a><br />\n",
       "<a href=\"http://www.whitehouse.gov/omb/factsheet/supporting-small-businesses-and-creating-jobs#healthcare\" alt=\"In 2014, small business will be able to shop for affordable health insurance plans through state-based marketplaces, and be eligible tax credits that cover up to 50% of the cost of providing health care for employees.\">expanding tax credits for health care</a><br />\n",
       "<a href=\"http://www.whitehouse.gov/blog/2010/10/11/president-infrastructure-investment-work-needs-be-done-there-are-workers-who-are-rea\" alt=\"Put construction workers back to work with good jobs that can't be outsourced building the tools and transportation network our businesses need to compete globally.\">rebuilding America's infrastructure</a><br />"
      ],
      "text/plain": [
       "<IPython.core.display.HTML object>"
      ]
     },
     "execution_count": 11,
     "metadata": {},
     "output_type": "execute_result"
    }
   ],
   "source": [
    "from IPython.display import HTML\n",
    "\n",
    "output = []\n",
    "\n",
    "for item in access_data:\n",
    "    output.append(u'<a href=\"{}\" alt=\"{}\">{}</a><br />'.\n",
    "                  format(item['url'], item['body'], item['url_title']))\n",
    "\n",
    "HTML(\"\\n\".join(output))"
   ]
  },
  {
   "cell_type": "code",
   "execution_count": null,
   "metadata": {
    "collapsed": true
   },
   "outputs": [],
   "source": []
  }
 ],
 "metadata": {
  "kernelspec": {
   "display_name": "Python 2",
   "language": "python",
   "name": "python2"
  },
  "language_info": {
   "codemirror_mode": {
    "name": "ipython",
    "version": 2
   },
   "file_extension": ".py",
   "mimetype": "text/x-python",
   "name": "python",
   "nbconvert_exporter": "python",
   "pygments_lexer": "ipython2",
   "version": "2.7.11"
  }
 },
 "nbformat": 4,
 "nbformat_minor": 0
}
