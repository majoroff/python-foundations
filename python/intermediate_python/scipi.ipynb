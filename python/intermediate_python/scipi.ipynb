{
 "cells": [
  {
   "cell_type": "code",
   "execution_count": 1,
   "metadata": {
    "collapsed": true
   },
   "outputs": [],
   "source": [
    "%matplotlib inline"
   ]
  },
  {
   "cell_type": "code",
   "execution_count": 2,
   "metadata": {
    "collapsed": true
   },
   "outputs": [],
   "source": [
    "import numpy as np\n",
    "from pylab import figure, show\n",
    "from numpy import array\n",
    "import matplotlib\n",
    "import matplotlib.pyplot as plt\n",
    "from scipy.stats import norm\n"
   ]
  },
  {
   "cell_type": "code",
   "execution_count": 5,
   "metadata": {
    "collapsed": false
   },
   "outputs": [],
   "source": [
    "source = \"http://internettrafficreport.com/details.htm\"\n",
    "import csv\n",
    "reader = csv.reader(open('data/itr-data.csv', 'r'))\n",
    "num_data = []\n",
    "for router, city, indx, resp, loss in reader:\n",
    "    num_data.append([float(indx), float(resp), float(loss)])\n",
    "    \n",
    "data = np.array(num_data)"
   ]
  },
  {
   "cell_type": "code",
   "execution_count": 6,
   "metadata": {
    "collapsed": false
   },
   "outputs": [
    {
     "name": "stdout",
     "output_type": "stream",
     "text": [
      "[ 94.  56.   0.]\n"
     ]
    }
   ],
   "source": [
    "print data[0]"
   ]
  },
  {
   "cell_type": "code",
   "execution_count": 7,
   "metadata": {
    "collapsed": false
   },
   "outputs": [
    {
     "data": {
      "text/plain": [
       "(75, 3)"
      ]
     },
     "execution_count": 7,
     "metadata": {},
     "output_type": "execute_result"
    }
   ],
   "source": [
    "data.shape"
   ]
  },
  {
   "cell_type": "code",
   "execution_count": 10,
   "metadata": {
    "collapsed": false
   },
   "outputs": [],
   "source": [
    "indx = data[:, 0]\n",
    "response = data[:, 1]\n",
    "loss = data[:, 2]"
   ]
  },
  {
   "cell_type": "code",
   "execution_count": 11,
   "metadata": {
    "collapsed": false
   },
   "outputs": [
    {
     "data": {
      "text/plain": [
       "array([   0.,    0.,    0.,    0.,    0.,  100.,    0.,    0.,    0.,\n",
       "          0.,    0.,    0.,    0.,    0.,    0.,    0.,  100.,    0.,\n",
       "        100.,  100.,    0.,    0.,    0.,    0.,  100.,    0.,  100.,\n",
       "        100.,    0.,  100.,    0.,    0.,    0.,    0.,  100.,  100.,\n",
       "          0.,    0.,    0.,    0.,  100.,    0.,  100.,  100.,    0.,\n",
       "          0.,    0.,    0.,    0.,    0.,    0.,    0.,    0.,    0.,\n",
       "          0.,  100.,    0.,    0.,    0.,    0.,  100.,    0.,  100.,\n",
       "        100.,    0.,  100.,    0.,  100.,  100.,    0.,    0.,    0.,\n",
       "          0.,    0.,    0.])"
      ]
     },
     "execution_count": 11,
     "metadata": {},
     "output_type": "execute_result"
    }
   ],
   "source": [
    "loss"
   ]
  },
  {
   "cell_type": "code",
   "execution_count": 12,
   "metadata": {
    "collapsed": true
   },
   "outputs": [],
   "source": [
    "mean, std = norm.fit(np.asarray(response))"
   ]
  },
  {
   "cell_type": "code",
   "execution_count": 14,
   "metadata": {
    "collapsed": false
   },
   "outputs": [
    {
     "data": {
      "image/png": "[encoded data removed]",
      "text/plain": [
       "<matplotlib.figure.Figure at 0x7f2eeed6f0d0>"
      ]
     },
     "metadata": {},
     "output_type": "display_data"
    }
   ],
   "source": [
    "fig = plt.Figure()\n",
    "n, nbins, p = plt.hist(response, bins=10, normed=True, facecolor='blue', alpha=0.75)\n",
    "y = matplotlib.mlab.normpdf(nbins, mean, std)\n",
    "plt.plot(nbins, y, 'r-', linewidth=5)\n",
    "plt.xlabel('Response time (ms)\\n[source: {0}]'.format(source))\n",
    "plt.ylabel('Fraction of Cities')\n",
    "plt.title('Internet Response Time 29 March 2014\\nMean: {0}, std. dev {1}\\n'\\\n",
    "         .format(round(mean, 1), round(std,1)))\n",
    "plt.grid(True)\n",
    "plt.show()"
   ]
  },
  {
   "cell_type": "code",
   "execution_count": null,
   "metadata": {
    "collapsed": true
   },
   "outputs": [],
   "source": []
  }
 ],
 "metadata": {
  "kernelspec": {
   "display_name": "Python 2",
   "language": "python",
   "name": "python2"
  },
  "language_info": {
   "codemirror_mode": {
    "name": "ipython",
    "version": 2
   },
   "file_extension": ".py",
   "mimetype": "text/x-python",
   "name": "python",
   "nbconvert_exporter": "python",
   "pygments_lexer": "ipython2",
   "version": "2.7.11"
  }
 },
 "nbformat": 4,
 "nbformat_minor": 0
}
