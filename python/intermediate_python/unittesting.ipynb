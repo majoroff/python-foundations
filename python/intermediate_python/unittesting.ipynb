{
 "cells": [
  {
   "cell_type": "markdown",
   "metadata": {},
   "source": [
    "## Simple TDD example"
   ]
  },
  {
   "cell_type": "code",
   "execution_count": 1,
   "metadata": {
    "collapsed": false
   },
   "outputs": [
    {
     "data": {
      "text/plain": [
       "['assertAlmostEqual',\n",
       " 'assertAlmostEquals',\n",
       " 'assertDictContainsSubset',\n",
       " 'assertDictEqual',\n",
       " 'assertEqual',\n",
       " 'assertEquals',\n",
       " 'assertFalse',\n",
       " 'assertGreater',\n",
       " 'assertGreaterEqual',\n",
       " 'assertIn',\n",
       " 'assertIs',\n",
       " 'assertIsInstance',\n",
       " 'assertIsNone',\n",
       " 'assertIsNot',\n",
       " 'assertIsNotNone',\n",
       " 'assertItemsEqual',\n",
       " 'assertLess',\n",
       " 'assertLessEqual',\n",
       " 'assertListEqual',\n",
       " 'assertMultiLineEqual',\n",
       " 'assertNotAlmostEqual',\n",
       " 'assertNotAlmostEquals',\n",
       " 'assertNotEqual',\n",
       " 'assertNotEquals',\n",
       " 'assertNotIn',\n",
       " 'assertNotIsInstance',\n",
       " 'assertNotRegexpMatches',\n",
       " 'assertRaises',\n",
       " 'assertRaisesRegexp',\n",
       " 'assertRegexpMatches',\n",
       " 'assertSequenceEqual',\n",
       " 'assertSetEqual',\n",
       " 'assertTrue',\n",
       " 'assertTupleEqual',\n",
       " 'assert_']"
      ]
     },
     "execution_count": 1,
     "metadata": {},
     "output_type": "execute_result"
    }
   ],
   "source": [
    "from unittest import TestCase\n",
    "import unittest\n",
    "\n",
    "[name for name in dir(TestCase) if name.startswith(\"assert\")]"
   ]
  },
  {
   "cell_type": "code",
   "execution_count": 2,
   "metadata": {
    "collapsed": false
   },
   "outputs": [
    {
     "name": "stdout",
     "output_type": "stream",
     "text": [
      "Writing widget.py\n"
     ]
    }
   ],
   "source": [
    "%%file widget.py\n",
    "\n",
    "class Widget:\n",
    "    pass"
   ]
  },
  {
   "cell_type": "code",
   "execution_count": 7,
   "metadata": {
    "collapsed": false
   },
   "outputs": [
    {
     "name": "stdout",
     "output_type": "stream",
     "text": [
      "Overwriting test1.py\n"
     ]
    }
   ],
   "source": [
    "%%file test1.py\n",
    "from widget import Widget\n",
    "import unittest\n",
    "class WidgetSizeTestCase(unittest.TestCase):\n",
    "    def test_creation(self):\n",
    "        widget = Widget(\"My Widget\")\n",
    "        self.assertEqual(widget.size(), (50,50), \"Initial size is not (50,50)\")\n",
    "        \n",
    "if __name__ == '__main__':\n",
    "    unittest.main()"
   ]
  },
  {
   "cell_type": "code",
   "execution_count": 8,
   "metadata": {
    "collapsed": false
   },
   "outputs": [
    {
     "name": "stdout",
     "output_type": "stream",
     "text": [
      "E\r\n",
      "======================================================================\r\n",
      "ERROR: test_creation (__main__.WidgetSizeTestCase)\r\n",
      "----------------------------------------------------------------------\r\n",
      "Traceback (most recent call last):\r\n",
      "  File \"test1.py\", line 5, in test_creation\r\n",
      "    widget = Widget(\"My Widget\")\r\n",
      "TypeError: this constructor takes no arguments\r\n",
      "\r\n",
      "----------------------------------------------------------------------\r\n",
      "Ran 1 test in 0.000s\r\n",
      "\r\n",
      "FAILED (errors=1)\r\n"
     ]
    }
   ],
   "source": [
    "!python test1.py"
   ]
  },
  {
   "cell_type": "code",
   "execution_count": 9,
   "metadata": {
    "collapsed": false
   },
   "outputs": [
    {
     "name": "stdout",
     "output_type": "stream",
     "text": [
      "Overwriting widget.py\n"
     ]
    }
   ],
   "source": [
    "%%file widget.py\n",
    "\n",
    "class Widget:\n",
    "    def __init__(self, title):\n",
    "        self.title = title"
   ]
  },
  {
   "cell_type": "code",
   "execution_count": 10,
   "metadata": {
    "collapsed": false
   },
   "outputs": [
    {
     "name": "stdout",
     "output_type": "stream",
     "text": [
      "E\r\n",
      "======================================================================\r\n",
      "ERROR: test_creation (__main__.WidgetSizeTestCase)\r\n",
      "----------------------------------------------------------------------\r\n",
      "Traceback (most recent call last):\r\n",
      "  File \"test1.py\", line 6, in test_creation\r\n",
      "    self.assertEqual(widget.size(), (50,50), \"Initial size is not (50,50)\")\r\n",
      "AttributeError: Widget instance has no attribute 'size'\r\n",
      "\r\n",
      "----------------------------------------------------------------------\r\n",
      "Ran 1 test in 0.000s\r\n",
      "\r\n",
      "FAILED (errors=1)\r\n"
     ]
    }
   ],
   "source": [
    "!python test1.py"
   ]
  },
  {
   "cell_type": "code",
   "execution_count": 16,
   "metadata": {
    "collapsed": false
   },
   "outputs": [
    {
     "name": "stdout",
     "output_type": "stream",
     "text": [
      "Overwriting widget.py\n"
     ]
    }
   ],
   "source": [
    "%%file widget.py\n",
    "\n",
    "class Widget:\n",
    "    def __init__(self, title, size=(50,50)):\n",
    "        self.title = title\n",
    "        self._size = size\n",
    "    \n",
    "    \n",
    "    def size(self):\n",
    "        pass"
   ]
  },
  {
   "cell_type": "code",
   "execution_count": 17,
   "metadata": {
    "collapsed": false
   },
   "outputs": [
    {
     "name": "stdout",
     "output_type": "stream",
     "text": [
      "F\r\n",
      "======================================================================\r\n",
      "FAIL: test_creation (__main__.WidgetSizeTestCase)\r\n",
      "----------------------------------------------------------------------\r\n",
      "Traceback (most recent call last):\r\n",
      "  File \"test1.py\", line 6, in test_creation\r\n",
      "    self.assertEqual(widget.size(), (50,50), \"Initial size is not (50,50)\")\r\n",
      "AssertionError: Initial size is not (50,50)\r\n",
      "\r\n",
      "----------------------------------------------------------------------\r\n",
      "Ran 1 test in 0.000s\r\n",
      "\r\n",
      "FAILED (failures=1)\r\n"
     ]
    }
   ],
   "source": [
    "!python test1.py"
   ]
  },
  {
   "cell_type": "code",
   "execution_count": 18,
   "metadata": {
    "collapsed": false
   },
   "outputs": [
    {
     "name": "stdout",
     "output_type": "stream",
     "text": [
      "Overwriting widget.py\n"
     ]
    }
   ],
   "source": [
    "%%file widget.py\n",
    "\n",
    "class Widget:\n",
    "    def __init__(self, title, size=(50,50)):\n",
    "        self.title = title\n",
    "        self._size = size\n",
    "    \n",
    "    \n",
    "    def size(self):\n",
    "        return self._size"
   ]
  },
  {
   "cell_type": "code",
   "execution_count": 19,
   "metadata": {
    "collapsed": false
   },
   "outputs": [
    {
     "name": "stdout",
     "output_type": "stream",
     "text": [
      ".\r\n",
      "----------------------------------------------------------------------\r\n",
      "Ran 1 test in 0.000s\r\n",
      "\r\n",
      "OK\r\n"
     ]
    }
   ],
   "source": [
    "!python test1.py"
   ]
  },
  {
   "cell_type": "code",
   "execution_count": null,
   "metadata": {
    "collapsed": true
   },
   "outputs": [],
   "source": []
  }
 ],
 "metadata": {
  "kernelspec": {
   "display_name": "Python 2",
   "language": "python",
   "name": "python2"
  },
  "language_info": {
   "codemirror_mode": {
    "name": "ipython",
    "version": 2
   },
   "file_extension": ".py",
   "mimetype": "text/x-python",
   "name": "python",
   "nbconvert_exporter": "python",
   "pygments_lexer": "ipython2",
   "version": "2.7.11"
  }
 },
 "nbformat": 4,
 "nbformat_minor": 0
}
