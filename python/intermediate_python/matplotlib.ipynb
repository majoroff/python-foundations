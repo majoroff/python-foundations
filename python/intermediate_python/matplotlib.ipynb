{
 "cells": [
  {
   "cell_type": "code",
   "execution_count": 2,
   "metadata": {
    "collapsed": false
   },
   "outputs": [
    {
     "data": {
      "text/plain": [
       "array([ 0.        ,  0.01005025,  0.0201005 ,  0.03015075,  0.04020101,\n",
       "        0.05025126,  0.06030151,  0.07035176,  0.08040201,  0.09045226,\n",
       "        0.10050251,  0.11055276,  0.12060302,  0.13065327,  0.14070352,\n",
       "        0.15075377,  0.16080402,  0.17085427,  0.18090452,  0.19095477,\n",
       "        0.20100503,  0.21105528,  0.22110553,  0.23115578,  0.24120603,\n",
       "        0.25125628,  0.26130653,  0.27135678,  0.28140704,  0.29145729,\n",
       "        0.30150754,  0.31155779,  0.32160804,  0.33165829,  0.34170854,\n",
       "        0.35175879,  0.36180905,  0.3718593 ,  0.38190955,  0.3919598 ,\n",
       "        0.40201005,  0.4120603 ,  0.42211055,  0.4321608 ,  0.44221106,\n",
       "        0.45226131,  0.46231156,  0.47236181,  0.48241206,  0.49246231,\n",
       "        0.50251256,  0.51256281,  0.52261307,  0.53266332,  0.54271357,\n",
       "        0.55276382,  0.56281407,  0.57286432,  0.58291457,  0.59296482,\n",
       "        0.60301508,  0.61306533,  0.62311558,  0.63316583,  0.64321608,\n",
       "        0.65326633,  0.66331658,  0.67336683,  0.68341709,  0.69346734,\n",
       "        0.70351759,  0.71356784,  0.72361809,  0.73366834,  0.74371859,\n",
       "        0.75376884,  0.7638191 ,  0.77386935,  0.7839196 ,  0.79396985,\n",
       "        0.8040201 ,  0.81407035,  0.8241206 ,  0.83417085,  0.84422111,\n",
       "        0.85427136,  0.86432161,  0.87437186,  0.88442211,  0.89447236,\n",
       "        0.90452261,  0.91457286,  0.92462312,  0.93467337,  0.94472362,\n",
       "        0.95477387,  0.96482412,  0.97487437,  0.98492462,  0.99497487,\n",
       "        1.00502513,  1.01507538,  1.02512563,  1.03517588,  1.04522613,\n",
       "        1.05527638,  1.06532663,  1.07537688,  1.08542714,  1.09547739,\n",
       "        1.10552764,  1.11557789,  1.12562814,  1.13567839,  1.14572864,\n",
       "        1.15577889,  1.16582915,  1.1758794 ,  1.18592965,  1.1959799 ,\n",
       "        1.20603015,  1.2160804 ,  1.22613065,  1.2361809 ,  1.24623116,\n",
       "        1.25628141,  1.26633166,  1.27638191,  1.28643216,  1.29648241,\n",
       "        1.30653266,  1.31658291,  1.32663317,  1.33668342,  1.34673367,\n",
       "        1.35678392,  1.36683417,  1.37688442,  1.38693467,  1.39698492,\n",
       "        1.40703518,  1.41708543,  1.42713568,  1.43718593,  1.44723618,\n",
       "        1.45728643,  1.46733668,  1.47738693,  1.48743719,  1.49748744,\n",
       "        1.50753769,  1.51758794,  1.52763819,  1.53768844,  1.54773869,\n",
       "        1.55778894,  1.5678392 ,  1.57788945,  1.5879397 ,  1.59798995,\n",
       "        1.6080402 ,  1.61809045,  1.6281407 ,  1.63819095,  1.64824121,\n",
       "        1.65829146,  1.66834171,  1.67839196,  1.68844221,  1.69849246,\n",
       "        1.70854271,  1.71859296,  1.72864322,  1.73869347,  1.74874372,\n",
       "        1.75879397,  1.76884422,  1.77889447,  1.78894472,  1.79899497,\n",
       "        1.80904523,  1.81909548,  1.82914573,  1.83919598,  1.84924623,\n",
       "        1.85929648,  1.86934673,  1.87939698,  1.88944724,  1.89949749,\n",
       "        1.90954774,  1.91959799,  1.92964824,  1.93969849,  1.94974874,\n",
       "        1.95979899,  1.96984925,  1.9798995 ,  1.98994975,  2.        ])"
      ]
     },
     "execution_count": 2,
     "metadata": {},
     "output_type": "execute_result"
    }
   ],
   "source": [
    "from pylab import figure, show\n",
    "import numpy as np\n",
    "from numpy import sin, cos, exp, pi\n",
    "import matplotlib.pyplot as plt\n",
    "\n",
    "x = np.linspace(0, 2, 200)\n",
    "x"
   ]
  },
  {
   "cell_type": "code",
   "execution_count": 7,
   "metadata": {
    "collapsed": false
   },
   "outputs": [],
   "source": [
    "font = {\n",
    "    'family': 'serif',\n",
    "    'color': 'darkred',\n",
    "    'weight': 'normal',\n",
    "    'size': 16,\n",
    "}\n",
    "\n",
    "x = np.linspace(0.0, 5.0, 100)\n",
    "y = cos(2 * pi * x) * exp(-x)\n",
    "\n",
    "plt.plot(x, y, 'k')\n",
    "plt.title('Damped exponential decay', fontdict=font)\n",
    "plt.text(2, 0.65, r'$\\cos(2 \\pi t) \\exp(-t)$', fontdict=font)\n",
    "plt.xlabel('time (s)', fontdict=font)\n",
    "plt.ylabel('voltage (mV)', fontdict=font)\n",
    "\n",
    "plt.subplots_adjust(left=0.15)\n",
    "plt.show()"
   ]
  },
  {
   "cell_type": "code",
   "execution_count": 10,
   "metadata": {
    "collapsed": true
   },
   "outputs": [],
   "source": [
    "frame = plt.figure(2)\n",
    "p1 = frame.add_subplot(211)\n",
    "p1.plot(x, cos(6*pi*x))\n",
    "\n",
    "p1.grid(True)\n",
    "p1.set_xlabel(\"X\")\n",
    "p1.set_ylim((-2, 2))\n",
    "p1.set_ylabel('cos 6*pi*x')\n",
    "p1.set_title('Simple matplotlib Demo')\n",
    "\n",
    "p2 = frame.add_subplot(212)\n",
    "p2.plot(x, sin(3*pi*x))\n",
    "p2.grid(True)\n",
    "p2.set_xlabel(\"X\")\n",
    "p2.set_ylim((-2, 2))\n",
    "p2.set_ylabel('sin 3*pi*x')\n",
    "\n",
    "for label in p1.get_xticklabels():\n",
    "    label.set_color('black')\n",
    "    \n",
    "plt.show()"
   ]
  },
  {
   "cell_type": "code",
   "execution_count": 15,
   "metadata": {
    "collapsed": false
   },
   "outputs": [],
   "source": [
    "from mpl_toolkits.mplot3d import axes3d\n",
    "import matplotlib.pyplot as plt\n",
    "from matplotlib import cm\n",
    "\n",
    "fig = plt.figure(figsize=(8,8), dpi=200)\n",
    "ax = fig.gca(projection='3d')\n",
    "x, y, z = axes3d.get_test_data()\n",
    "\n",
    "ax.plot_surface(x, y, z, rstride=5, cstride=10, alpha=0.5)\n",
    "cset = ax.contour(x, y, z, zdir='x', offset=-40, cmap=cm.YlGnBu)\n",
    "cset = ax.contour(x, y, z, zdir='y', offset=40, cmap=cm.Greens)\n",
    "cset = ax.contour(x, y, z, zdir='z', offset=-100, cmap=cm.Pastel1)\n",
    "\n",
    "ax.set_xlabel('X')\n",
    "ax.set_ylim(-40, 40)\n",
    "ax.set_ylabel('Y')\n",
    "ax.set_ylim(-40, 40)\n",
    "ax.set_zlabel('Z')\n",
    "ax.set_zlim(-90, 90)\n",
    "\n",
    "plt.show()"
   ]
  },
  {
   "cell_type": "code",
   "execution_count": null,
   "metadata": {
    "collapsed": true
   },
   "outputs": [],
   "source": []
  }
 ],
 "metadata": {
  "kernelspec": {
   "display_name": "Python 2",
   "language": "python",
   "name": "python2"
  },
  "language_info": {
   "codemirror_mode": {
    "name": "ipython",
    "version": 2
   },
   "file_extension": ".py",
   "mimetype": "text/x-python",
   "name": "python",
   "nbconvert_exporter": "python",
   "pygments_lexer": "ipython2",
   "version": "2.7.11"
  }
 },
 "nbformat": 4,
 "nbformat_minor": 0
}
