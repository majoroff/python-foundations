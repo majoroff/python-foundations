{
 "cells": [
  {
   "cell_type": "markdown",
   "metadata": {},
   "source": [
    "** gcc *intput_file* -Wall -Wextra -pedantic -std=c99 -o *output_file* **"
   ]
  },
  {
   "cell_type": "code",
   "execution_count": 2,
   "metadata": {
    "collapsed": false
   },
   "outputs": [
    {
     "name": "stderr",
     "output_type": "stream",
     "text": []
    },
    {
     "name": "stdout",
     "output_type": "stream",
     "text": [
      "Hello, world!\n"
     ]
    }
   ],
   "source": [
    "# include <stdio.h>\n",
    "\n",
    "int main() {\n",
    "    printf(\"Hello, world!\\n\");\n",
    "}"
   ]
  },
  {
   "cell_type": "code",
   "execution_count": 6,
   "metadata": {
    "collapsed": false
   },
   "outputs": [
    {
     "name": "stderr",
     "output_type": "stream",
     "text": []
    },
    {
     "name": "stdout",
     "output_type": "stream",
     "text": [
      "10.00 C = 50.00 F = 283.15 K\n",
      "20.00 C = 68.00 F = 293.15 K\n",
      "30.00 C = 86.00 F = 303.15 K\n",
      "40.00 C = 104.00 F = 313.15 K\n",
      "50.00 C = 122.00 F = 323.15 K\n",
      "60.00 C = 140.00 F = 333.15 K\n",
      "70.00 C = 158.00 F = 343.15 K\n",
      "80.00 C = 176.00 F = 353.15 K\n",
      "90.00 C = 194.00 F = 363.15 K\n",
      "100.00 C = 212.00 F = 373.15 K\n"
     ]
    }
   ],
   "source": [
    "#include <stdio.h>\n",
    "\n",
    "int main() {\n",
    "    float celsius = 0, fahrenheit, kelvin;\n",
    "    \n",
    "    while (celsius < 100) {\n",
    "        celsius = celsius + 10;\n",
    "        fahrenheit = celsius * 9 / 5 + 32;\n",
    "        kelvin = celsius + 273.15f;\n",
    "    \n",
    "        printf(\"%.2f C = %.2f F = %.2f K\\n\", celsius, fahrenheit, kelvin);\n",
    "        \n",
    "    }\n",
    "\n",
    "    \n",
    "}"
   ]
  },
  {
   "cell_type": "code",
   "execution_count": 2,
   "metadata": {
    "collapsed": false
   },
   "outputs": [
    {
     "name": "stderr",
     "output_type": "stream",
     "text": []
    },
    {
     "name": "stdout",
     "output_type": "stream",
     "text": [
      "10.00 C = 50.00 F = 283.15 K\n",
      "20.00 C = 68.00 F = 293.15 K\n",
      "30.00 C = 86.00 F = 303.15 K\n",
      "40.00 C = 104.00 F = 313.15 K\n",
      "50.00 C = 122.00 F = 323.15 K\n",
      "60.00 C = 140.00 F = 333.15 K\n",
      "70.00 C = 158.00 F = 343.15 K\n",
      "80.00 C = 176.00 F = 353.15 K\n",
      "90.00 C = 194.00 F = 363.15 K\n",
      "100.00 C = 212.00 F = 373.15 K\n"
     ]
    }
   ],
   "source": [
    "#include <stdio.h>\n",
    "\n",
    "float celsius_to_fahrenheit(float celsius) {\n",
    "    return celsius*9/5 + 32;\n",
    "}\n",
    "\n",
    "float celsius_to_kelvin(float celsius) {\n",
    "    return celsius+273.15f;\n",
    "}\n",
    "\n",
    "\n",
    "int main() {\n",
    "    float celsius = 0;\n",
    "    \n",
    "    while (celsius < 100) {\n",
    "        celsius = celsius + 10;\n",
    "        float fahrenheit = celsius_to_fahrenheit(celsius);\n",
    "        float kelvin = celsius_to_kelvin(celsius);\n",
    "    \n",
    "        printf(\"%.2f C = %.2f F = %.2f K\\n\", celsius, fahrenheit, kelvin);\n",
    "        \n",
    "    }\n",
    "\n",
    "    \n",
    "}"
   ]
  },
  {
   "cell_type": "code",
   "execution_count": 4,
   "metadata": {
    "collapsed": false
   },
   "outputs": [
    {
     "name": "stderr",
     "output_type": "stream",
     "text": []
    },
    {
     "name": "stdout",
     "output_type": "stream",
     "text": [
      "1 6\n",
      "2 6\n",
      "3 6\n"
     ]
    }
   ],
   "source": [
    "#include <stdio.h>\n",
    "\n",
    "void run(){\n",
    "    int hens;\n",
    "    int eggs = 5;\n",
    "    \n",
    "    hens++;\n",
    "    eggs++;\n",
    "    printf(\"%d %d\\n\", hens, eggs);\n",
    "    \n",
    "}\n",
    "\n",
    "int main(){\n",
    "    run();\n",
    "    run();\n",
    "    run();\n",
    "}"
   ]
  },
  {
   "cell_type": "code",
   "execution_count": 6,
   "metadata": {
    "collapsed": false
   },
   "outputs": [
    {
     "name": "stderr",
     "output_type": "stream",
     "text": []
    },
    {
     "name": "stdout",
     "output_type": "stream",
     "text": [
      "6 6\n",
      "7 6\n",
      "8 6\n"
     ]
    }
   ],
   "source": [
    "#include <stdio.h>\n",
    "\n",
    "void run(){\n",
    "    static int hens = 5;\n",
    "    int eggs = 5;\n",
    "    \n",
    "    hens++;\n",
    "    eggs++;\n",
    "    printf(\"%d %d\\n\", hens, eggs);\n",
    "    \n",
    "}\n",
    "\n",
    "int main(){\n",
    "    run();\n",
    "    run();\n",
    "    run();\n",
    "}"
   ]
  },
  {
   "cell_type": "code",
   "execution_count": 7,
   "metadata": {
    "collapsed": false
   },
   "outputs": [
    {
     "name": "stderr",
     "output_type": "stream",
     "text": []
    },
    {
     "name": "stdout",
     "output_type": "stream",
     "text": [
      "15\n"
     ]
    }
   ],
   "source": [
    "#include <stdio.h>\n",
    "\n",
    "static int eggs;\n",
    "\n",
    "void up() {\n",
    "    eggs += 10;\n",
    "}\n",
    "\n",
    "void down() {\n",
    "    eggs -= 5;\n",
    "}\n",
    "\n",
    "int main() {\n",
    "    up();\n",
    "    up();\n",
    "    down();\n",
    "    \n",
    "    printf(\"%d\\n\", eggs);\n",
    "}"
   ]
  },
  {
   "cell_type": "code",
   "execution_count": 8,
   "metadata": {
    "collapsed": false
   },
   "outputs": [
    {
     "name": "stderr",
     "output_type": "stream",
     "text": []
    },
    {
     "name": "stdout",
     "output_type": "stream",
     "text": [
      "123 (4)\n"
     ]
    }
   ],
   "source": [
    "#include <stdio.h>\n",
    "\n",
    "int main(){\n",
    "    int i = 123;\n",
    "    float f = 1.23f;\n",
    "    double d = 2.34;\n",
    "    char c = 'c';\n",
    "    \n",
    "    unsigned int ui = 123u;\n",
    "    short int si = 123;\n",
    "    long int li = 123;\n",
    "    \n",
    "    printf(\"%d (%d)\\n\", i, (int) sizeof(i));\n",
    "    \n",
    "}"
   ]
  },
  {
   "cell_type": "markdown",
   "metadata": {
    "collapsed": true
   },
   "source": [
    "## Structures"
   ]
  },
  {
   "cell_type": "code",
   "execution_count": 4,
   "metadata": {
    "collapsed": false
   },
   "outputs": [
    {
     "name": "stderr",
     "output_type": "stream",
     "text": []
    },
    {
     "name": "stdout",
     "output_type": "stream",
     "text": []
    }
   ],
   "source": [
    "#include <stdio.h>\n",
    "\n",
    "typedef struct Pixel{\n",
    "    float X;\n",
    "    float Y;\n",
    "} Pixel;\n",
    "\n",
    "typedef unsigned char byte;\n",
    "\n",
    "typedef struct Color {\n",
    "    byte Red;\n",
    "    byte Green;\n",
    "    byte Blue;\n",
    "} Color;\n",
    "\n",
    "int main() {\n",
    "    Pixel p = { 10.0f, 20.0f };\n",
    "    Color c = {255, 128 }; // Blue would be initialized with 0\n",
    "    \n",
    "    c.Blue = 255;\n",
    "    float x = p.X;\n",
    "    \n",
    "    \n",
    "}"
   ]
  },
  {
   "cell_type": "code",
   "execution_count": 5,
   "metadata": {
    "collapsed": false
   },
   "outputs": [
    {
     "name": "stderr",
     "output_type": "stream",
     "text": []
    },
    {
     "name": "stdout",
     "output_type": "stream",
     "text": [
      "2\n",
      "4\n",
      "8\n",
      "16\n"
     ]
    }
   ],
   "source": [
    "#include <stdio.h>\n",
    "\n",
    "typedef struct Layout {\n",
    "    short int first;\n",
    "    int second;\n",
    "    long int third;\n",
    "} Layout;\n",
    "\n",
    "int main() {\n",
    "    printf(\"%d\\n\", (int) sizeof(short));\n",
    "    printf(\"%d\\n\", (int) sizeof(int));\n",
    "    printf(\"%d\\n\", (int) sizeof(long));\n",
    "    printf(\"%d\\n\", (int) sizeof(Layout));\n",
    "}"
   ]
  },
  {
   "cell_type": "code",
   "execution_count": 7,
   "metadata": {
    "collapsed": false
   },
   "outputs": [
    {
     "name": "stderr",
     "output_type": "stream",
     "text": []
    },
    {
     "name": "stdout",
     "output_type": "stream",
     "text": [
      "integer 4\n",
      "float 4\n",
      "aggregate 4\n"
     ]
    }
   ],
   "source": [
    "#include <stdio.h>\n",
    "\n",
    "typedef union {\n",
    "    int Integer;\n",
    "    float RealNumber;\n",
    "\n",
    "} OneThingOrAnother;\n",
    "\n",
    "int main() {\n",
    "    printf(\"integer %d\\n\", (int) sizeof(int));\n",
    "    printf(\"float %d\\n\", (int) sizeof(float));\n",
    "    printf(\"aggregate %d\\n\", (int) sizeof(OneThingOrAnother));\n",
    "}"
   ]
  },
  {
   "cell_type": "code",
   "execution_count": null,
   "metadata": {
    "collapsed": true
   },
   "outputs": [],
   "source": [
    "#include <stdio.h>\n",
    "\n",
    "typedef union {\n",
    "    int Integer;\n",
    "    float RealNumber;\n",
    "\n",
    "} OneThingOrAnother;\n",
    "\n",
    "typedef enum WhichThing {\n",
    "    TheInteger,\n",
    "    TheRealNum\n",
    "} WhichThing;\n",
    "\n",
    "\n",
    "int main() {\n",
    "    OneThingOrAnother var;\n",
    "    var.Integer = 123;\n",
    "    \n",
    "    WhichThing type = TheInteger;\n",
    "    \n",
    "    var.RealNumber = 123.12f;\n",
    "    type = TheRealNum;\n",
    "}"
   ]
  },
  {
   "cell_type": "markdown",
   "metadata": {},
   "source": [
    "## Statements"
   ]
  },
  {
   "cell_type": "code",
   "execution_count": 2,
   "metadata": {
    "collapsed": false
   },
   "outputs": [
    {
     "name": "stderr",
     "output_type": "stream",
     "text": []
    },
    {
     "name": "stdout",
     "output_type": "stream",
     "text": [
      "many eggs\n",
      "counter 0 is even\n",
      "four eggs\n",
      "seven eggs\n",
      "counter 2 is even\n",
      "many eggs\n",
      "many eggs\n",
      "counter 4 is even\n",
      "many eggs\n",
      "many eggs\n",
      "counter 6 is even\n",
      "many eggs\n",
      "many eggs\n",
      "counter 8 is even\n",
      "many eggs\n",
      "many eggs\n",
      "counter 10 is even\n",
      "o\n",
      "o\n",
      "o\n",
      "o\n",
      "o\n",
      "o\n",
      "o\n",
      "o\n",
      "o\n",
      "o\n",
      "Boom!"
     ]
    }
   ],
   "source": [
    "#include <stdio.h>\n",
    "\n",
    "int main() {\n",
    "    int counter = 0;\n",
    "    int eggs = 1;\n",
    "    \n",
    "    while (counter <= 10){\n",
    "        switch(eggs){\n",
    "            case 4: printf(\"four eggs\\n\"); break;\n",
    "            case 7: printf(\"seven eggs\\n\"); break;\n",
    "            default: printf(\"many eggs\\n\"); break;\n",
    "        }\n",
    "        \n",
    "        if (counter%2==0){\n",
    "            printf(\"counter %d is even\\n\", counter);\n",
    "        }\n",
    "        counter++;\n",
    "        eggs += 3;\n",
    "    }\n",
    "    for (int i = 10; i>=0; i--){\n",
    "        if (i == 0) {\n",
    "            printf(\"Boom!\");\n",
    "        } else {\n",
    "            printf(\"o\\n\");\n",
    "        }\n",
    "    }\n",
    "}"
   ]
  },
  {
   "cell_type": "markdown",
   "metadata": {
    "collapsed": true
   },
   "source": [
    "## Expressions"
   ]
  },
  {
   "cell_type": "code",
   "execution_count": 7,
   "metadata": {
    "collapsed": false
   },
   "outputs": [
    {
     "name": "stderr",
     "output_type": "stream",
     "text": []
    },
    {
     "name": "stdout",
     "output_type": "stream",
     "text": [
      "Before: 12\n",
      "Current: 13\n",
      "After: 14\n"
     ]
    }
   ],
   "source": [
    "#include <stdio.h>\n",
    "\n",
    "int main() {\n",
    "    int eggs = 12;\n",
    "    int before = eggs++;\n",
    "    int current = eggs;\n",
    "    int after = ++eggs;\n",
    "    \n",
    "    printf(\"Before: %d\\nCurrent: %d\\nAfter: %d\\n\", before, current, after);\n",
    "}"
   ]
  },
  {
   "cell_type": "markdown",
   "metadata": {
    "collapsed": true
   },
   "source": [
    "## Pointers and arrays"
   ]
  },
  {
   "cell_type": "code",
   "execution_count": 12,
   "metadata": {
    "collapsed": false
   },
   "outputs": [
    {
     "name": "stderr",
     "output_type": "stream",
     "text": []
    },
    {
     "name": "stdout",
     "output_type": "stream",
     "text": [
      "0x7ffd00ea0d08\n",
      "i = 2345; j = 1234;"
     ]
    }
   ],
   "source": [
    "#include <stdio.h>\n",
    "\n",
    "int main(){\n",
    "    int i = 1234;\n",
    "    \n",
    "    \n",
    "    &i;  //get address of the variable\n",
    "    printf(\"%p\\n\", &i);\n",
    "    \n",
    "    int * p = &i; // p is regular variable, and it's value - address of another variable\n",
    "    \n",
    "    int j = *p; // new variable with value been pointed to by p, e.g. 1234\n",
    "    \n",
    "    *p = 2345; // value of i has changed\n",
    "    \n",
    "    printf(\"i = %d; j = %d;\", i, j);\n",
    "}"
   ]
  },
  {
   "cell_type": "code",
   "execution_count": 16,
   "metadata": {
    "collapsed": false
   },
   "outputs": [
    {
     "name": "stderr",
     "output_type": "stream",
     "text": []
    },
    {
     "name": "stdout",
     "output_type": "stream",
     "text": [
      "101\n",
      "202\n",
      "303\n",
      "404\n",
      "505\n",
      "0\n",
      "0\n",
      "0\n"
     ]
    }
   ],
   "source": [
    "#include <stdio.h>\n",
    "\n",
    "int main(){\n",
    "    int numbers[] = {101, 202, 303, 404};\n",
    "    int empty_numbers[5];\n",
    "    int sized_numbers[3] = {101, 202, 303};\n",
    "    int mostly_sized_numbers[8] = {101, 202, 303, 404, 505};\n",
    "    \n",
    "    // sizeof returns size in bytes, so we need to divide size of array with size of one element\n",
    "    int size = sizeof(mostly_sized_numbers) / sizeof(mostly_sized_numbers[0]);\n",
    "    \n",
    "    \n",
    "    for (int i=0; i<size; ++i){\n",
    "        printf(\"%d\\n\", mostly_sized_numbers[i]);\n",
    "    }\n",
    "}"
   ]
  },
  {
   "cell_type": "code",
   "execution_count": 28,
   "metadata": {
    "collapsed": false
   },
   "outputs": [
    {
     "name": "stderr",
     "output_type": "stream",
     "text": []
    },
    {
     "name": "stdout",
     "output_type": "stream",
     "text": [
      "101\n",
      "202\n",
      "303\n"
     ]
    }
   ],
   "source": [
    "#include <stdio.h>\n",
    "\n",
    "int main(){\n",
    "\n",
    "    int numbers[3] = {101, 202, 303};\n",
    "    int size = sizeof(numbers) / sizeof(numbers[0]);\n",
    "\n",
    "    int * p = numbers;\n",
    "    int * end = p + size;\n",
    "\n",
    "    for(; p != end; ++p){\n",
    "        printf(\"%d\\n\", *p);\n",
    "    }\n",
    "}"
   ]
  },
  {
   "cell_type": "code",
   "execution_count": 31,
   "metadata": {
    "collapsed": false
   },
   "outputs": [
    {
     "name": "stderr",
     "output_type": "stream",
     "text": []
    },
    {
     "name": "stdout",
     "output_type": "stream",
     "text": [
      "1\n",
      "5\n",
      "4\n",
      "3\n",
      "2\n",
      "largest 5\n"
     ]
    }
   ],
   "source": [
    "#include <stdio.h>\n",
    "\n",
    "int * Print(int * begin, int * end){\n",
    "    if (begin == end) return 0;\n",
    "    \n",
    "    int * largest = begin;\n",
    "    \n",
    "    for(; begin != end; ++begin){\n",
    "        \n",
    "        printf(\"%d\\n\", *begin);\n",
    "        \n",
    "        if (*largest < *begin) largest = begin;\n",
    "    }\n",
    "    return largest;\n",
    "}\n",
    "\n",
    "int main(){\n",
    "\n",
    "    int numbers[5] = {1, 5, 4, 3, 2};\n",
    "    int size = sizeof(numbers) / sizeof(numbers[0]);\n",
    "    \n",
    "    int * largest = Print(numbers, numbers+size);\n",
    "    \n",
    "    if(largest){\n",
    "        printf(\"largest %d\\n\", *largest);\n",
    "    }\n",
    "}"
   ]
  },
  {
   "cell_type": "code",
   "execution_count": null,
   "metadata": {
    "collapsed": true
   },
   "outputs": [],
   "source": [
    "#include <stdio.h>\n",
    "\n",
    "int main(){\n",
    "    int value = 123; // variable holding value\n",
    "    int * p = &value; // pointer holding memory address of value\n",
    "    int ** pp = &p; // pointing to pointer holding memory address of integer\n",
    "    \n",
    "    \n",
    "    \n",
    "}"
   ]
  },
  {
   "cell_type": "code",
   "execution_count": null,
   "metadata": {
    "collapsed": true
   },
   "outputs": [],
   "source": []
  },
  {
   "cell_type": "code",
   "execution_count": null,
   "metadata": {
    "collapsed": true
   },
   "outputs": [],
   "source": []
  },
  {
   "cell_type": "code",
   "execution_count": null,
   "metadata": {
    "collapsed": true
   },
   "outputs": [],
   "source": []
  },
  {
   "cell_type": "code",
   "execution_count": null,
   "metadata": {
    "collapsed": true
   },
   "outputs": [],
   "source": []
  },
  {
   "cell_type": "code",
   "execution_count": null,
   "metadata": {
    "collapsed": true
   },
   "outputs": [],
   "source": []
  },
  {
   "cell_type": "code",
   "execution_count": null,
   "metadata": {
    "collapsed": true
   },
   "outputs": [],
   "source": []
  },
  {
   "cell_type": "code",
   "execution_count": null,
   "metadata": {
    "collapsed": true
   },
   "outputs": [],
   "source": []
  },
  {
   "cell_type": "code",
   "execution_count": null,
   "metadata": {
    "collapsed": true
   },
   "outputs": [],
   "source": []
  },
  {
   "cell_type": "code",
   "execution_count": null,
   "metadata": {
    "collapsed": true
   },
   "outputs": [],
   "source": []
  },
  {
   "cell_type": "code",
   "execution_count": null,
   "metadata": {
    "collapsed": true
   },
   "outputs": [],
   "source": []
  },
  {
   "cell_type": "code",
   "execution_count": null,
   "metadata": {
    "collapsed": true
   },
   "outputs": [],
   "source": []
  },
  {
   "cell_type": "code",
   "execution_count": null,
   "metadata": {
    "collapsed": true
   },
   "outputs": [],
   "source": []
  },
  {
   "cell_type": "code",
   "execution_count": null,
   "metadata": {
    "collapsed": true
   },
   "outputs": [],
   "source": []
  },
  {
   "cell_type": "code",
   "execution_count": null,
   "metadata": {
    "collapsed": true
   },
   "outputs": [],
   "source": []
  }
 ],
 "metadata": {
  "kernelspec": {
   "display_name": "C",
   "language": "c",
   "name": "c_spec"
  },
  "language_info": {
   "file_extension": "c",
   "mimetype": "text/plain",
   "name": "c"
  }
 },
 "nbformat": 4,
 "nbformat_minor": 0
}
